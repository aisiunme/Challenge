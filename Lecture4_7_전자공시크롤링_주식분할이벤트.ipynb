{
  "cells": [
    {
      "metadata": {
        "trusted": true
      },
      "cell_type": "code",
      "source": "! pip install progressbar2",
      "execution_count": 5,
      "outputs": [
        {
          "output_type": "stream",
          "text": "Collecting progressbar2\n  Downloading https://files.pythonhosted.org/packages/16/68/adc395e0a3c86571081c8a2e2daaa5b58270f6854276a089a0e9b5fa2c33/progressbar2-3.47.0-py2.py3-none-any.whl\nRequirement already satisfied: six in /home/nbuser/anaconda3_501/lib/python3.6/site-packages (from progressbar2) (1.11.0)\nCollecting python-utils>=2.3.0\n  Downloading https://files.pythonhosted.org/packages/eb/a0/19119d8b7c05be49baf6c593f11c432d571b70d805f2fe94c0585e55e4c8/python_utils-2.3.0-py2.py3-none-any.whl\nInstalling collected packages: python-utils, progressbar2\nSuccessfully installed progressbar2-3.47.0 python-utils-2.3.0\n",
          "name": "stdout"
        }
      ]
    },
    {
      "metadata": {
        "trusted": true
      },
      "cell_type": "code",
      "source": "import pandas as pd\nimport requests\nfrom bs4 import BeautifulSoup as bs\nfrom datetime import datetime, timedelta\nimport re\nfrom progressbar import progressbar\nimport time\nimport random",
      "execution_count": 19,
      "outputs": []
    },
    {
      "metadata": {},
      "cell_type": "markdown",
      "source": "### 상세 검색 페이지에서 파라미터 확인\n\nhttp://dart.fss.or.kr/dsab002/main.do#  페이지 접속\n\n\n'주식분할' 키워드로 검색\n\n\n'검사' 메뉴에서 Form Data 확인\n\n\n당일 날짜 설정"
    },
    {
      "metadata": {
        "trusted": true
      },
      "cell_type": "code",
      "source": "# 금일 날짜 설정\n\ndt = datetime.utcnow() + timedelta(hours = 9)    # utc 시간에서 9시간 더함\ntoday = dt.strftime('%Y%m%d')                  # str 형태로 변환\ntoday",
      "execution_count": null,
      "outputs": []
    },
    {
      "metadata": {
        "trusted": true
      },
      "cell_type": "code",
      "source": "url = 'http://dart.fss.or.kr/dsab002/search.ax'",
      "execution_count": null,
      "outputs": []
    },
    {
      "metadata": {
        "trusted": true
      },
      "cell_type": "code",
      "source": "data = {\n    'currentPage': '1',            # 페이지 1로 충분함\n    'maxResults': '100',           # 15에서 100으로 변경\n    'maxLinks': '10',\n    'sort': 'date',\n    'series': 'desc',\n    'textCrpCik': '',\n    'textCrpNm': '',\n    'textPresenterNm': '',\n    'startDate': '20160101',\n    'endDate': today,         # 오늘 날짜로 변경\n    'finalReport': 'recent',\n    'typesOfBusiness': 'all',\n    'corporationType': 'all',\n    'closingAccountsMonth': 'all',\n    'reportName': '주식분할'\n    }\n\n# headers = {\n#     'Origin': 'http://dart.fss.or.kr',\n#     'Accept-Encoding': 'gzip, deflate',\n#     'Accept-Language': 'ko-KR,ko;q=0.9,en-US;q=0.8,en;q=0.7',\n#     'User-Agent': 'Mozilla/5.0 (Windows NT 10.0; Win64; x64) AppleWebKit/537.36 (KHTML, like Gecko) Chrome/66.0.3359.139 Safari/537.36',\n#     'Content-Type': 'application/x-www-form-urlencoded',\n#     'Accept': 'text/html, */*; q=0.01',\n#     'Referer': 'http://dart.fss.or.kr/dsab002/main.do',\n#     'X-Requested-With': 'XMLHttpRequest',\n#     'Connection': 'keep-alive',\n# }\n",
      "execution_count": null,
      "outputs": []
    },
    {
      "metadata": {},
      "cell_type": "markdown",
      "source": "#### 원하는 페이지 요청"
    },
    {
      "metadata": {
        "trusted": true
      },
      "cell_type": "code",
      "source": "response = requests.post(url, data = data)",
      "execution_count": null,
      "outputs": []
    },
    {
      "metadata": {
        "scrolled": true,
        "trusted": true
      },
      "cell_type": "code",
      "source": "response.text",
      "execution_count": null,
      "outputs": []
    },
    {
      "metadata": {},
      "cell_type": "markdown",
      "source": "#### 페이지 응답 여부 확인해보기"
    },
    {
      "metadata": {
        "scrolled": true,
        "trusted": true
      },
      "cell_type": "code",
      "source": "dff = pd.read_html(response.text)[0]",
      "execution_count": null,
      "outputs": []
    },
    {
      "metadata": {
        "scrolled": true,
        "trusted": true
      },
      "cell_type": "code",
      "source": "dff",
      "execution_count": null,
      "outputs": []
    },
    {
      "metadata": {
        "trusted": true
      },
      "cell_type": "code",
      "source": "dff.shape",
      "execution_count": null,
      "outputs": []
    },
    {
      "metadata": {
        "trusted": true
      },
      "cell_type": "code",
      "source": "soup = bs(response.text, 'html.parser')",
      "execution_count": null,
      "outputs": []
    },
    {
      "metadata": {
        "trusted": true
      },
      "cell_type": "code",
      "source": "soup",
      "execution_count": null,
      "outputs": []
    },
    {
      "metadata": {},
      "cell_type": "markdown",
      "source": "#### table 코드 확인과 숫자확인"
    },
    {
      "metadata": {
        "trusted": true
      },
      "cell_type": "code",
      "source": "soup.findAll('table')",
      "execution_count": null,
      "outputs": []
    },
    {
      "metadata": {
        "trusted": true
      },
      "cell_type": "code",
      "source": "len(soup.findAll('table'))",
      "execution_count": null,
      "outputs": []
    },
    {
      "metadata": {},
      "cell_type": "markdown",
      "source": "#### 'tr' tag 첫번째, 마지막번째 요소 확인해보기"
    },
    {
      "metadata": {
        "scrolled": true,
        "trusted": true
      },
      "cell_type": "code",
      "source": "soup.findAll('tr')[2]",
      "execution_count": null,
      "outputs": []
    },
    {
      "metadata": {
        "scrolled": true,
        "trusted": true
      },
      "cell_type": "code",
      "source": "soup.findAll('tr')[1]",
      "execution_count": null,
      "outputs": []
    },
    {
      "metadata": {
        "scrolled": true,
        "trusted": true
      },
      "cell_type": "code",
      "source": "soup.findAll('tr')[-1]",
      "execution_count": null,
      "outputs": []
    },
    {
      "metadata": {},
      "cell_type": "markdown",
      "source": "#### tr tag의 숫자 확인하여 실제 공시와 비교해보기"
    },
    {
      "metadata": {
        "trusted": true
      },
      "cell_type": "code",
      "source": "len(soup.findAll('tr'))",
      "execution_count": null,
      "outputs": []
    },
    {
      "metadata": {},
      "cell_type": "markdown",
      "source": "## 첫번째 tr tag의 항목 추출하기"
    },
    {
      "metadata": {},
      "cell_type": "markdown",
      "source": "<작업 순서>\n\n* 공시 리스트에서 공시 페이지를 여는 방법 찾아보기\n  (iframe 구조 이해 필요)\n\n\n* 해당 페이지에서 추출하려는 항목을 정리해야 함\n\n\n* '기재정정' 공시의 구조도 같이 체크할 수 있도록 확인 필요\n\n\n* 다양한 형태의 자료에 대해서도 추출 가능한 함수 제작 염두\n\n\n---------------------------------------------------------\n\n<추출 항목 정리>\n\n - 회사명(company)\n \n \n - 공시일자(announce_date)\n\n\n - 분할 전 액면가(far_before)\n\n\n - 분할 후 액면가(far_after)\n\n\n - 주주총회 예정일(approve_date)\n\n\n - 거래정지 첫날(close_date)\n\n\n - 신주상장일(open_date)\n\n\n - 이사회 결의일(decide_date) - 공시 시간 확인 가능"
    },
    {
      "metadata": {
        "trusted": true
      },
      "cell_type": "code",
      "source": "# tr[0]의 경우 테이블 라벨이기 때문에 1번부터 진행\n\nwork1 = soup.findAll('tr')[2].findAll('td')   ",
      "execution_count": null,
      "outputs": []
    },
    {
      "metadata": {
        "scrolled": true,
        "trusted": true
      },
      "cell_type": "code",
      "source": "work1 #td_list",
      "execution_count": null,
      "outputs": []
    },
    {
      "metadata": {},
      "cell_type": "markdown",
      "source": "#### 회사명, 공시 일자 체크 "
    },
    {
      "metadata": {
        "trusted": true
      },
      "cell_type": "code",
      "source": "work1[4].text",
      "execution_count": null,
      "outputs": []
    },
    {
      "metadata": {
        "trusted": true
      },
      "cell_type": "code",
      "source": "company = work1[1].text.replace('\\t','').replace('\\n','').replace('\\xa0','').replace('\\r','')\nannounce_date = work1[4].text\n\ncompany, announce_date\n",
      "execution_count": null,
      "outputs": []
    },
    {
      "metadata": {},
      "cell_type": "markdown",
      "source": "#### 종목코드 추출"
    },
    {
      "metadata": {
        "scrolled": true,
        "trusted": true
      },
      "cell_type": "code",
      "source": "code_res = requests.get('http://dart.fss.or.kr' + work1[1].a['href'])",
      "execution_count": null,
      "outputs": []
    },
    {
      "metadata": {
        "trusted": true
      },
      "cell_type": "code",
      "source": "code = pd.read_html(code_res.text)[0].iloc[3,1]",
      "execution_count": null,
      "outputs": []
    },
    {
      "metadata": {},
      "cell_type": "markdown",
      "source": "#### 공시 타이틀 체크('[첨부정정]'으로 시작하는 것은 지우기 위함)"
    },
    {
      "metadata": {
        "trusted": true
      },
      "cell_type": "code",
      "source": "title = work1[2].text.replace(\"\\n\", \"\").replace(\"\\t\",\"\").replace(\" \",\"\").replace(\"\\r\",\"\")\ntitle",
      "execution_count": null,
      "outputs": []
    },
    {
      "metadata": {},
      "cell_type": "markdown",
      "source": "#### 시장 구분 체크('일반법인 제외 목적')"
    },
    {
      "metadata": {
        "trusted": true
      },
      "cell_type": "code",
      "source": "market = work1[1].img['title']\nmarket",
      "execution_count": null,
      "outputs": []
    },
    {
      "metadata": {},
      "cell_type": "markdown",
      "source": "#### 하위 사이트 탐색"
    },
    {
      "metadata": {
        "trusted": true
      },
      "cell_type": "code",
      "source": "sub_url = work1[2].a['href']\nsub_url_1 = 'http://dart.fss.or.kr' + sub_url\nsub_url_1",
      "execution_count": null,
      "outputs": []
    },
    {
      "metadata": {},
      "cell_type": "markdown",
      "source": "### 하위 사이트 열어보기\n\n* sub_url_1 주소 열어서 내용 확인\n\n\n* main.do 컨텐츠 확인\n\n\n* viewer.do 컨텐츠 확인\n\n\n* viewer.do에 원하는 컨텐츠가 있음 \n\n\n* 하지만 'dcmNo' 번호에 대한 정보 필요\n\n\n* 'dcmNo' 의 경우 main.do 에서 찾아보자"
    },
    {
      "metadata": {},
      "cell_type": "markdown",
      "source": "#### main.do 사이트 요청 및 컨텐츠 확인(html 구조가 아님)"
    },
    {
      "metadata": {
        "trusted": true
      },
      "cell_type": "code",
      "source": "sub_main_response = requests.get(sub_url_1)",
      "execution_count": null,
      "outputs": []
    },
    {
      "metadata": {
        "trusted": true
      },
      "cell_type": "code",
      "source": "sub_main_text = sub_main_response.text\n\nsub_main_text",
      "execution_count": null,
      "outputs": []
    },
    {
      "metadata": {},
      "cell_type": "markdown",
      "source": "#### dcmNo 위치를 확인해보자.(ctrl + F 명령어로 검색)"
    },
    {
      "metadata": {},
      "cell_type": "markdown",
      "source": "#### dcmNo 위치와 관련하여 반복되는 구문을 찾아보자(201804.......)"
    },
    {
      "metadata": {},
      "cell_type": "markdown",
      "source": "#### 2018042.....넘버를 먼저 구한 후 이를 중심으로 split하여 두번째 항목을 살펴보자.\n\nHint) sub_url의 마지막 부분에 있음"
    },
    {
      "metadata": {
        "trusted": true
      },
      "cell_type": "code",
      "source": "check_num = sub_url[-14:]\ncheck_num",
      "execution_count": null,
      "outputs": []
    },
    {
      "metadata": {
        "trusted": true
      },
      "cell_type": "code",
      "source": "sub_main_text.split(check_num)[1]",
      "execution_count": null,
      "outputs": []
    },
    {
      "metadata": {},
      "cell_type": "markdown",
      "source": "#### 원하는 번호가 있는 위치를 찾아보자.(노가다로)"
    },
    {
      "metadata": {
        "trusted": true
      },
      "cell_type": "code",
      "source": "sub_main_text.split(check_num)[1][4:12]",
      "execution_count": null,
      "outputs": []
    },
    {
      "metadata": {},
      "cell_type": "markdown",
      "source": "#### 원하는 번호가 있는 위치를 찾아보자.(정규표현식으로)\n\n* 7자리 숫자를 찾아주는 정규표현식은?\n\n\n* 'python regrex exact n digit number' 로 구글에서 검색\n\n\n* 정규표현식 문법은 네이버에서 '정규표현식'으로 검색해볼 것"
    },
    {
      "metadata": {
        "trusted": true
      },
      "cell_type": "code",
      "source": "re.findall(r\"\\b\\d{7}\\b\",sub_main_text.split(check_num)[1])[0]",
      "execution_count": null,
      "outputs": []
    },
    {
      "metadata": {
        "trusted": true
      },
      "cell_type": "code",
      "source": "dcmNo = re.findall(r\"\\b\\d{7}\\b\",sub_main_text.split(check_num)[1])[0]\ndcmNo",
      "execution_count": null,
      "outputs": []
    },
    {
      "metadata": {},
      "cell_type": "markdown",
      "source": "### dcmNo를 활용하여 viewer.do 문서를 열어보자."
    },
    {
      "metadata": {
        "trusted": true
      },
      "cell_type": "code",
      "source": "contents_url = \"http://dart.fss.or.kr/report/viewer.do\"",
      "execution_count": null,
      "outputs": []
    },
    {
      "metadata": {},
      "cell_type": "markdown",
      "source": "#### requests.get의 parameter check"
    },
    {
      "metadata": {
        "trusted": true
      },
      "cell_type": "code",
      "source": "param_data = {\n    'rcpNo': check_num,    # check_num 사용(앞에서 추출한 고유번호)\n    'dcmNo': dcmNo,        # dcmNo 사용(앞에서 추출한 고유번호)\n    'eleId': '0',\n    'offset': '0',\n    'length': '0',\n    'dtd': 'HTML'\n}",
      "execution_count": null,
      "outputs": []
    },
    {
      "metadata": {},
      "cell_type": "markdown",
      "source": "#### param을 활용하여 requests 하기"
    },
    {
      "metadata": {
        "trusted": true
      },
      "cell_type": "code",
      "source": "contents_request = requests.get(contents_url, params = param_data)",
      "execution_count": 2,
      "outputs": [
        {
          "output_type": "error",
          "ename": "NameError",
          "evalue": "name 'contents_url' is not defined",
          "traceback": [
            "\u001b[0;31m---------------------------------------------------------------------------\u001b[0m",
            "\u001b[0;31mNameError\u001b[0m                                 Traceback (most recent call last)",
            "\u001b[0;32m<ipython-input-2-f0171ea70192>\u001b[0m in \u001b[0;36m<module>\u001b[0;34m\u001b[0m\n\u001b[0;32m----> 1\u001b[0;31m \u001b[0mcontents_request\u001b[0m \u001b[0;34m=\u001b[0m \u001b[0mrequests\u001b[0m\u001b[0;34m.\u001b[0m\u001b[0mget\u001b[0m\u001b[0;34m(\u001b[0m\u001b[0mcontents_url\u001b[0m\u001b[0;34m,\u001b[0m \u001b[0mparams\u001b[0m \u001b[0;34m=\u001b[0m \u001b[0mparam_data\u001b[0m\u001b[0;34m)\u001b[0m\u001b[0;34m\u001b[0m\u001b[0m\n\u001b[0m",
            "\u001b[0;31mNameError\u001b[0m: name 'contents_url' is not defined"
          ]
        }
      ]
    },
    {
      "metadata": {
        "scrolled": true,
        "trusted": true
      },
      "cell_type": "code",
      "source": "contents_request.text",
      "execution_count": 3,
      "outputs": [
        {
          "output_type": "error",
          "ename": "NameError",
          "evalue": "name 'contents_request' is not defined",
          "traceback": [
            "\u001b[0;31m---------------------------------------------------------------------------\u001b[0m",
            "\u001b[0;31mNameError\u001b[0m                                 Traceback (most recent call last)",
            "\u001b[0;32m<ipython-input-3-c213411dc7de>\u001b[0m in \u001b[0;36m<module>\u001b[0;34m\u001b[0m\n\u001b[0;32m----> 1\u001b[0;31m \u001b[0mcontents_request\u001b[0m\u001b[0;34m.\u001b[0m\u001b[0mtext\u001b[0m\u001b[0;34m\u001b[0m\u001b[0m\n\u001b[0m",
            "\u001b[0;31mNameError\u001b[0m: name 'contents_request' is not defined"
          ]
        }
      ]
    },
    {
      "metadata": {},
      "cell_type": "markdown",
      "source": "#### 화면 구조 분석"
    },
    {
      "metadata": {
        "scrolled": true,
        "trusted": true
      },
      "cell_type": "code",
      "source": "contents_df = pd.read_html(contents_request.text)\n",
      "execution_count": 6,
      "outputs": [
        {
          "output_type": "error",
          "ename": "NameError",
          "evalue": "name 'contents_request' is not defined",
          "traceback": [
            "\u001b[0;31m---------------------------------------------------------------------------\u001b[0m",
            "\u001b[0;31mNameError\u001b[0m                                 Traceback (most recent call last)",
            "\u001b[0;32m<ipython-input-6-dee64f92a09e>\u001b[0m in \u001b[0;36m<module>\u001b[0;34m\u001b[0m\n\u001b[0;32m----> 1\u001b[0;31m \u001b[0mcontents_df\u001b[0m \u001b[0;34m=\u001b[0m \u001b[0mpd\u001b[0m\u001b[0;34m.\u001b[0m\u001b[0mread_html\u001b[0m\u001b[0;34m(\u001b[0m\u001b[0mcontents_request\u001b[0m\u001b[0;34m.\u001b[0m\u001b[0mtext\u001b[0m\u001b[0;34m)\u001b[0m\u001b[0;34m\u001b[0m\u001b[0m\n\u001b[0m",
            "\u001b[0;31mNameError\u001b[0m: name 'contents_request' is not defined"
          ]
        }
      ]
    },
    {
      "metadata": {
        "trusted": true
      },
      "cell_type": "code",
      "source": "contents_df[-1]",
      "execution_count": 106,
      "outputs": [
        {
          "output_type": "execute_result",
          "execution_count": 106,
          "data": {
            "text/html": "<div>\n<style scoped>\n    .dataframe tbody tr th:only-of-type {\n        vertical-align: middle;\n    }\n\n    .dataframe tbody tr th {\n        vertical-align: top;\n    }\n\n    .dataframe thead th {\n        text-align: right;\n    }\n</style>\n<table border=\"1\" class=\"dataframe\">\n  <thead>\n    <tr style=\"text-align: right;\">\n      <th></th>\n      <th>0</th>\n      <th>1</th>\n      <th>2</th>\n      <th>3</th>\n    </tr>\n  </thead>\n  <tbody>\n    <tr>\n      <th>0</th>\n      <td>1. 주식분할 내용</td>\n      <td>구분</td>\n      <td>분할전</td>\n      <td>분할후</td>\n    </tr>\n    <tr>\n      <th>1</th>\n      <td>1주당 가액 (원)</td>\n      <td>500</td>\n      <td>100</td>\n      <td>NaN</td>\n    </tr>\n    <tr>\n      <th>2</th>\n      <td>발행주식총수</td>\n      <td>보통주식(주)</td>\n      <td>4553965</td>\n      <td>22769825</td>\n    </tr>\n    <tr>\n      <th>3</th>\n      <td>종류주식(주)</td>\n      <td>-</td>\n      <td>-</td>\n      <td>NaN</td>\n    </tr>\n    <tr>\n      <th>4</th>\n      <td>2. 주식분할 일정</td>\n      <td>주주총회예정일</td>\n      <td>2018-12-27</td>\n      <td>NaN</td>\n    </tr>\n    <tr>\n      <th>5</th>\n      <td>구주권제출기간</td>\n      <td>시작일</td>\n      <td>2018-12-28</td>\n      <td>NaN</td>\n    </tr>\n    <tr>\n      <th>6</th>\n      <td>종료일</td>\n      <td>2019-01-29</td>\n      <td>NaN</td>\n      <td>NaN</td>\n    </tr>\n    <tr>\n      <th>7</th>\n      <td>매매거래정지예정기간</td>\n      <td>2019-01-28 ~ 2019-02-14</td>\n      <td>NaN</td>\n      <td>NaN</td>\n    </tr>\n    <tr>\n      <th>8</th>\n      <td>명의개서정지기간</td>\n      <td>2019-01-30 ~ 2019-02-13</td>\n      <td>NaN</td>\n      <td>NaN</td>\n    </tr>\n    <tr>\n      <th>9</th>\n      <td>신주권교부예정일</td>\n      <td>2019-02-14</td>\n      <td>NaN</td>\n      <td>NaN</td>\n    </tr>\n    <tr>\n      <th>10</th>\n      <td>신주권상장예정일</td>\n      <td>2019-02-15</td>\n      <td>NaN</td>\n      <td>NaN</td>\n    </tr>\n    <tr>\n      <th>11</th>\n      <td>3. 주식분할목적</td>\n      <td>유통주식수 확대를 통한 주식거래 활성화 및 주주가치 증대</td>\n      <td>NaN</td>\n      <td>NaN</td>\n    </tr>\n    <tr>\n      <th>12</th>\n      <td>4. 이사회결의일</td>\n      <td>2018-11-13</td>\n      <td>NaN</td>\n      <td>NaN</td>\n    </tr>\n    <tr>\n      <th>13</th>\n      <td>-사외이사 참석여부</td>\n      <td>참석(명)</td>\n      <td>2</td>\n      <td>NaN</td>\n    </tr>\n    <tr>\n      <th>14</th>\n      <td>불참(명)</td>\n      <td>-</td>\n      <td>NaN</td>\n      <td>NaN</td>\n    </tr>\n    <tr>\n      <th>15</th>\n      <td>-감사(사외이사가 아닌 감사위원) 참석여부</td>\n      <td>참석</td>\n      <td>NaN</td>\n      <td>NaN</td>\n    </tr>\n    <tr>\n      <th>16</th>\n      <td>5. 기타 투자판단에 참고할 사항</td>\n      <td>- 상기 2항 주식분할 일정은 관계기관과의 협의 과정에서 일부 변경 될 수 있습니다...</td>\n      <td>NaN</td>\n      <td>NaN</td>\n    </tr>\n    <tr>\n      <th>17</th>\n      <td>※관련공시</td>\n      <td>-</td>\n      <td>NaN</td>\n      <td>NaN</td>\n    </tr>\n  </tbody>\n</table>\n</div>",
            "text/plain": "                          0  \\\n0                1. 주식분할 내용   \n1                1주당 가액 (원)   \n2                    발행주식총수   \n3                   종류주식(주)   \n4                2. 주식분할 일정   \n5                   구주권제출기간   \n6                       종료일   \n7                매매거래정지예정기간   \n8                  명의개서정지기간   \n9                  신주권교부예정일   \n10                 신주권상장예정일   \n11                3. 주식분할목적   \n12                4. 이사회결의일   \n13               -사외이사 참석여부   \n14                    불참(명)   \n15  -감사(사외이사가 아닌 감사위원) 참석여부   \n16       5. 기타 투자판단에 참고할 사항   \n17                    ※관련공시   \n\n                                                    1           2         3  \n0                                                  구분         분할전       분할후  \n1                                                 500         100       NaN  \n2                                             보통주식(주)     4553965  22769825  \n3                                                   -           -       NaN  \n4                                             주주총회예정일  2018-12-27       NaN  \n5                                                 시작일  2018-12-28       NaN  \n6                                          2019-01-29         NaN       NaN  \n7                             2019-01-28 ~ 2019-02-14         NaN       NaN  \n8                             2019-01-30 ~ 2019-02-13         NaN       NaN  \n9                                          2019-02-14         NaN       NaN  \n10                                         2019-02-15         NaN       NaN  \n11                    유통주식수 확대를 통한 주식거래 활성화 및 주주가치 증대         NaN       NaN  \n12                                         2018-11-13         NaN       NaN  \n13                                              참석(명)           2       NaN  \n14                                                  -         NaN       NaN  \n15                                                 참석         NaN       NaN  \n16  - 상기 2항 주식분할 일정은 관계기관과의 협의 과정에서 일부 변경 될 수 있습니다...         NaN       NaN  \n17                                                  -         NaN       NaN  "
          },
          "metadata": {}
        }
      ]
    },
    {
      "metadata": {
        "trusted": true
      },
      "cell_type": "code",
      "source": "len(contents_df)",
      "execution_count": 107,
      "outputs": [
        {
          "output_type": "execute_result",
          "execution_count": 107,
          "data": {
            "text/plain": "1"
          },
          "metadata": {}
        }
      ]
    },
    {
      "metadata": {},
      "cell_type": "markdown",
      "source": "----------\n\n\n### <추출 항목 정리>\n\n - 회사명(company)\n \n \n - 공시일자(announce_date)\n\n\n - 분할 전 액면가(far_before)\n\n\n - 분할 후 액면가(far_after)\n\n\n - 주주총회 예정일(approve_date)\n\n\n - 거래정지 첫날(close_date)\n\n\n - 신주상장일(open_date)\n\n\n - 이사회 결의일(decide_date) - 공시 시간 확인 가능"
    },
    {
      "metadata": {},
      "cell_type": "markdown",
      "source": "------\n\n### (매우 중요) 주요 명심사항!\n\n* 이번 document 뿐만 아니라 다른 공시에 대해서도 적용이 되어야 함!\n\n\n* 경우의 수를 잘 생각해 보자.\n\n\n* 지금 최대한 만들어도 나중에 바꿔야할 가능성 99.999% 이니 일단 한번 해보고 수정하자.\n\n---\n\n\n\n1) 정정 공시일 경우 관련 table 이 추가됨\n\n\n2) 매매거래정지기간의 경우 날짜 양식이 다를 경우\n\n\n3) 정정 신고 내용에 주요 항목이 표시된 경우\n\n\n4) 항목이 다른 경우"
    },
    {
      "metadata": {},
      "cell_type": "markdown",
      "source": "#### (매우 중요) table 항목을 찾아 가장 마지막 item을 선택하여 작업하도록 함\n\n* 정정 공시의 경우 정정 이전 또는 정정 관련 사항이 가장 위에 위치함\n\n\n* 마지막 table을 선택하여 작업할 경우 정정 이후 공시만 추출할 수 있음"
    },
    {
      "metadata": {
        "trusted": true
      },
      "cell_type": "code",
      "source": "contents_df[-1]",
      "execution_count": 41,
      "outputs": [
        {
          "output_type": "execute_result",
          "execution_count": 41,
          "data": {
            "text/html": "<div>\n<style scoped>\n    .dataframe tbody tr th:only-of-type {\n        vertical-align: middle;\n    }\n\n    .dataframe tbody tr th {\n        vertical-align: top;\n    }\n\n    .dataframe thead th {\n        text-align: right;\n    }\n</style>\n<table border=\"1\" class=\"dataframe\">\n  <thead>\n    <tr style=\"text-align: right;\">\n      <th></th>\n      <th>0</th>\n      <th>1</th>\n      <th>2</th>\n      <th>3</th>\n    </tr>\n  </thead>\n  <tbody>\n    <tr>\n      <th>0</th>\n      <td>1. 주식분할 내용</td>\n      <td>구분</td>\n      <td>분할전</td>\n      <td>분할후</td>\n    </tr>\n    <tr>\n      <th>1</th>\n      <td>1주당 가액 (원)</td>\n      <td>500</td>\n      <td>100</td>\n      <td>NaN</td>\n    </tr>\n    <tr>\n      <th>2</th>\n      <td>발행주식총수</td>\n      <td>보통주식(주)</td>\n      <td>4553965</td>\n      <td>22769825</td>\n    </tr>\n    <tr>\n      <th>3</th>\n      <td>종류주식(주)</td>\n      <td>-</td>\n      <td>-</td>\n      <td>NaN</td>\n    </tr>\n    <tr>\n      <th>4</th>\n      <td>2. 주식분할 일정</td>\n      <td>주주총회예정일</td>\n      <td>2018-12-27</td>\n      <td>NaN</td>\n    </tr>\n    <tr>\n      <th>5</th>\n      <td>구주권제출기간</td>\n      <td>시작일</td>\n      <td>2018-12-28</td>\n      <td>NaN</td>\n    </tr>\n    <tr>\n      <th>6</th>\n      <td>종료일</td>\n      <td>2019-01-29</td>\n      <td>NaN</td>\n      <td>NaN</td>\n    </tr>\n    <tr>\n      <th>7</th>\n      <td>매매거래정지예정기간</td>\n      <td>2019-01-28 ~ 2019-02-14</td>\n      <td>NaN</td>\n      <td>NaN</td>\n    </tr>\n    <tr>\n      <th>8</th>\n      <td>명의개서정지기간</td>\n      <td>2019-01-30 ~ 2019-02-13</td>\n      <td>NaN</td>\n      <td>NaN</td>\n    </tr>\n    <tr>\n      <th>9</th>\n      <td>신주권교부예정일</td>\n      <td>2019-02-14</td>\n      <td>NaN</td>\n      <td>NaN</td>\n    </tr>\n    <tr>\n      <th>10</th>\n      <td>신주권상장예정일</td>\n      <td>2019-02-15</td>\n      <td>NaN</td>\n      <td>NaN</td>\n    </tr>\n    <tr>\n      <th>11</th>\n      <td>3. 주식분할목적</td>\n      <td>유통주식수 확대를 통한 주식거래 활성화 및 주주가치 증대</td>\n      <td>NaN</td>\n      <td>NaN</td>\n    </tr>\n    <tr>\n      <th>12</th>\n      <td>4. 이사회결의일</td>\n      <td>2018-11-13</td>\n      <td>NaN</td>\n      <td>NaN</td>\n    </tr>\n    <tr>\n      <th>13</th>\n      <td>-사외이사 참석여부</td>\n      <td>참석(명)</td>\n      <td>2</td>\n      <td>NaN</td>\n    </tr>\n    <tr>\n      <th>14</th>\n      <td>불참(명)</td>\n      <td>-</td>\n      <td>NaN</td>\n      <td>NaN</td>\n    </tr>\n    <tr>\n      <th>15</th>\n      <td>-감사(사외이사가 아닌 감사위원) 참석여부</td>\n      <td>참석</td>\n      <td>NaN</td>\n      <td>NaN</td>\n    </tr>\n    <tr>\n      <th>16</th>\n      <td>5. 기타 투자판단에 참고할 사항</td>\n      <td>- 상기 2항 주식분할 일정은 관계기관과의 협의 과정에서 일부 변경 될 수 있습니다...</td>\n      <td>NaN</td>\n      <td>NaN</td>\n    </tr>\n    <tr>\n      <th>17</th>\n      <td>※관련공시</td>\n      <td>-</td>\n      <td>NaN</td>\n      <td>NaN</td>\n    </tr>\n  </tbody>\n</table>\n</div>",
            "text/plain": "                          0  \\\n0                1. 주식분할 내용   \n1                1주당 가액 (원)   \n2                    발행주식총수   \n3                   종류주식(주)   \n4                2. 주식분할 일정   \n5                   구주권제출기간   \n6                       종료일   \n7                매매거래정지예정기간   \n8                  명의개서정지기간   \n9                  신주권교부예정일   \n10                 신주권상장예정일   \n11                3. 주식분할목적   \n12                4. 이사회결의일   \n13               -사외이사 참석여부   \n14                    불참(명)   \n15  -감사(사외이사가 아닌 감사위원) 참석여부   \n16       5. 기타 투자판단에 참고할 사항   \n17                    ※관련공시   \n\n                                                    1           2         3  \n0                                                  구분         분할전       분할후  \n1                                                 500         100       NaN  \n2                                             보통주식(주)     4553965  22769825  \n3                                                   -           -       NaN  \n4                                             주주총회예정일  2018-12-27       NaN  \n5                                                 시작일  2018-12-28       NaN  \n6                                          2019-01-29         NaN       NaN  \n7                             2019-01-28 ~ 2019-02-14         NaN       NaN  \n8                             2019-01-30 ~ 2019-02-13         NaN       NaN  \n9                                          2019-02-14         NaN       NaN  \n10                                         2019-02-15         NaN       NaN  \n11                    유통주식수 확대를 통한 주식거래 활성화 및 주주가치 증대         NaN       NaN  \n12                                         2018-11-13         NaN       NaN  \n13                                              참석(명)           2       NaN  \n14                                                  -         NaN       NaN  \n15                                                 참석         NaN       NaN  \n16  - 상기 2항 주식분할 일정은 관계기관과의 협의 과정에서 일부 변경 될 수 있습니다...         NaN       NaN  \n17                                                  -         NaN       NaN  "
          },
          "metadata": {}
        }
      ]
    },
    {
      "metadata": {
        "trusted": true
      },
      "cell_type": "code",
      "source": "far_before = int(contents_df[-1][contents_df[-1][0].str.contains('1주당')][1].values[0])\nfar_before",
      "execution_count": 108,
      "outputs": [
        {
          "output_type": "execute_result",
          "execution_count": 108,
          "data": {
            "text/plain": "500"
          },
          "metadata": {}
        }
      ]
    },
    {
      "metadata": {
        "trusted": true
      },
      "cell_type": "code",
      "source": "far_after = int(contents_df[-1][contents_df[-1][0].str.contains('1주당')][2].values[0])\nfar_after",
      "execution_count": 109,
      "outputs": [
        {
          "output_type": "execute_result",
          "execution_count": 109,
          "data": {
            "text/plain": "100"
          },
          "metadata": {}
        }
      ]
    },
    {
      "metadata": {
        "trusted": true
      },
      "cell_type": "code",
      "source": "approve_date = contents_df[-1][contents_df[-1][0].str.contains('일정')][2].values[0]\napprove_date",
      "execution_count": 110,
      "outputs": [
        {
          "output_type": "execute_result",
          "execution_count": 110,
          "data": {
            "text/plain": "'2018-12-27'"
          },
          "metadata": {}
        }
      ]
    },
    {
      "metadata": {
        "trusted": true
      },
      "cell_type": "code",
      "source": "announce_date = contents_df[-1][contents_df[-1][0].str.contains('이사회')][1].values[0]\nannounce_date",
      "execution_count": 111,
      "outputs": [
        {
          "output_type": "execute_result",
          "execution_count": 111,
          "data": {
            "text/plain": "'2018-11-13'"
          },
          "metadata": {}
        }
      ]
    },
    {
      "metadata": {},
      "cell_type": "markdown",
      "source": "#### 거래정지 첫날(close_date)\n\n* 이 경우 매매거래 정지기간은 표기 양식이 공시에 따라 너무 다름\n\n\n* 구주권 제출 기간 -종료일 을 선택할 경우 마지막 거래일을 추출할 수 있음\n"
    },
    {
      "metadata": {
        "trusted": true
      },
      "cell_type": "code",
      "source": "close_date = contents_df[-1][contents_df[-1][0].str.contains('종료일')][1].values[0]\nclose_date",
      "execution_count": 112,
      "outputs": [
        {
          "output_type": "execute_result",
          "execution_count": 112,
          "data": {
            "text/plain": "'2019-01-29'"
          },
          "metadata": {}
        }
      ]
    },
    {
      "metadata": {
        "trusted": true
      },
      "cell_type": "code",
      "source": "open_date = contents_df[-1][contents_df[-1][0].str.contains('상장')][1].values[0]\nopen_date",
      "execution_count": 114,
      "outputs": [
        {
          "output_type": "execute_result",
          "execution_count": 114,
          "data": {
            "text/plain": "'2019-02-15'"
          },
          "metadata": {}
        }
      ]
    },
    {
      "metadata": {},
      "cell_type": "markdown",
      "source": "### 해당 공시 정보 출력해보기"
    },
    {
      "metadata": {
        "trusted": true
      },
      "cell_type": "code",
      "source": "print(company, code, announce_date,far_before, far_after, approve_date,close_date,open_date)",
      "execution_count": 115,
      "outputs": [
        {
          "output_type": "stream",
          "text": "리켐 131100 2018-11-13 500 100 2018-12-27 2019-01-29 2019-02-15\n",
          "name": "stdout"
        }
      ]
    },
    {
      "metadata": {},
      "cell_type": "markdown",
      "source": "-----"
    },
    {
      "metadata": {},
      "cell_type": "markdown",
      "source": "# 2016년 이후 전체 액면분할 공시 출력해보기"
    },
    {
      "metadata": {},
      "cell_type": "markdown",
      "source": "### 전체 진행 순서\n\n1) 공시 리스트 불러오기\n\n\n2) 리스트에서 일부 항목 추출 \n\n\n3) 각 공시의 서브페이지 중 컨텐츠 페이지 불러오기\n\n\n4) 컨텐츠 페이지에서 주요 항목 추출\n\n\n5) 추출한 내용을 dictionary 형식으로 저장\n\n"
    },
    {
      "metadata": {},
      "cell_type": "markdown",
      "source": "----"
    },
    {
      "metadata": {},
      "cell_type": "markdown",
      "source": "### 1) 공시 리스트 불러오기"
    },
    {
      "metadata": {},
      "cell_type": "markdown",
      "source": "#### 금일 날짜 설정"
    },
    {
      "metadata": {
        "trusted": true
      },
      "cell_type": "code",
      "source": "dt = datetime.utcnow() + timedelta(hours = 9)    # utc 시간에서 9시간 더함\ntoday = dt.strftime('%Y%m%d')                  # str 형태로 변환\ntoday",
      "execution_count": 8,
      "outputs": [
        {
          "output_type": "execute_result",
          "execution_count": 8,
          "data": {
            "text/plain": "'20200118'"
          },
          "metadata": {}
        }
      ]
    },
    {
      "metadata": {},
      "cell_type": "markdown",
      "source": "#### 리스트 url 찾기"
    },
    {
      "metadata": {
        "trusted": true
      },
      "cell_type": "code",
      "source": "url = 'http://dart.fss.or.kr/dsab002/search.ax'",
      "execution_count": 9,
      "outputs": []
    },
    {
      "metadata": {},
      "cell_type": "markdown",
      "source": "#### data parameter 구하기"
    },
    {
      "metadata": {
        "trusted": true
      },
      "cell_type": "code",
      "source": "data = {\n    'currentPage': '1',            # 페이지 1로 충분함\n    'maxResults': '100',           # 15에서 100으로 변경\n    'maxLinks': '10',\n    'sort': 'date',\n    'series': 'desc',\n    'textCrpCik': '',\n    'textCrpNm': '',\n    'textPresenterNm': '',\n    'startDate': '20160101',\n    'endDate': today,         # 오늘 날짜로 변경\n    'finalReport': 'recent',\n    'typesOfBusiness': 'all',\n    'corporationType': 'all',\n    'closingAccountsMonth': 'all',\n    'reportName': '주식분할'\n    }",
      "execution_count": 10,
      "outputs": []
    },
    {
      "metadata": {},
      "cell_type": "markdown",
      "source": "#### 원하는 페이지 요청"
    },
    {
      "metadata": {
        "trusted": true
      },
      "cell_type": "code",
      "source": "response = requests.post(url, data=data)",
      "execution_count": 12,
      "outputs": []
    },
    {
      "metadata": {},
      "cell_type": "markdown",
      "source": "#### 페이지 응답여부 확인해 보기"
    },
    {
      "metadata": {
        "scrolled": true,
        "trusted": true
      },
      "cell_type": "code",
      "source": "pd.read_html(response.text)[0]",
      "execution_count": 13,
      "outputs": [
        {
          "output_type": "execute_result",
          "execution_count": 13,
          "data": {
            "text/html": "<div>\n<style scoped>\n    .dataframe tbody tr th:only-of-type {\n        vertical-align: middle;\n    }\n\n    .dataframe tbody tr th {\n        vertical-align: top;\n    }\n\n    .dataframe thead th {\n        text-align: right;\n    }\n</style>\n<table border=\"1\" class=\"dataframe\">\n  <thead>\n    <tr style=\"text-align: right;\">\n      <th></th>\n      <th>번호</th>\n      <th>공시대상회사</th>\n      <th>보고서명</th>\n      <th>제출인</th>\n      <th>접수일자</th>\n      <th>비고</th>\n    </tr>\n  </thead>\n  <tbody>\n    <tr>\n      <th>0</th>\n      <td>1</td>\n      <td>메디파트너생명공학</td>\n      <td>주식분할결정</td>\n      <td>메디파트너생명공학</td>\n      <td>2020.01.09</td>\n      <td>NaN</td>\n    </tr>\n    <tr>\n      <th>1</th>\n      <td>2</td>\n      <td>남영비비안</td>\n      <td>주식분할결정</td>\n      <td>남영비비안</td>\n      <td>2019.12.11</td>\n      <td>NaN</td>\n    </tr>\n    <tr>\n      <th>2</th>\n      <td>3</td>\n      <td>바른테크놀로지</td>\n      <td>[기재정정]주식분할결정</td>\n      <td>바른테크놀로지</td>\n      <td>2019.10.22</td>\n      <td>NaN</td>\n    </tr>\n    <tr>\n      <th>3</th>\n      <td>4</td>\n      <td>에이치엔티</td>\n      <td>주식분할결정</td>\n      <td>에이치엔티</td>\n      <td>2019.10.21</td>\n      <td>NaN</td>\n    </tr>\n    <tr>\n      <th>4</th>\n      <td>5</td>\n      <td>뉴파워프라즈마</td>\n      <td>주식분할결정</td>\n      <td>뉴파워프라즈마</td>\n      <td>2019.09.24</td>\n      <td>NaN</td>\n    </tr>\n    <tr>\n      <th>5</th>\n      <td>6</td>\n      <td>코스모화학</td>\n      <td>[기재정정]주식분할결정</td>\n      <td>코스모화학</td>\n      <td>2019.09.19</td>\n      <td>NaN</td>\n    </tr>\n    <tr>\n      <th>6</th>\n      <td>7</td>\n      <td>흥국에프엔비</td>\n      <td>[기재정정]주식분할결정</td>\n      <td>흥국에프엔비</td>\n      <td>2019.09.16</td>\n      <td>NaN</td>\n    </tr>\n    <tr>\n      <th>7</th>\n      <td>8</td>\n      <td>삼보산업</td>\n      <td>[기재정정]주식분할결정</td>\n      <td>삼보산업</td>\n      <td>2019.05.07</td>\n      <td>NaN</td>\n    </tr>\n    <tr>\n      <th>8</th>\n      <td>9</td>\n      <td>대동금속</td>\n      <td>[기재정정]주식분할결정</td>\n      <td>대동금속</td>\n      <td>2019.04.24</td>\n      <td>NaN</td>\n    </tr>\n    <tr>\n      <th>9</th>\n      <td>10</td>\n      <td>풀무원</td>\n      <td>[기재정정]주식분할결정</td>\n      <td>풀무원</td>\n      <td>2019.04.02</td>\n      <td>NaN</td>\n    </tr>\n    <tr>\n      <th>10</th>\n      <td>11</td>\n      <td>쿠쿠홈시스</td>\n      <td>[기재정정]주식분할결정</td>\n      <td>쿠쿠홈시스</td>\n      <td>2019.04.02</td>\n      <td>NaN</td>\n    </tr>\n    <tr>\n      <th>11</th>\n      <td>12</td>\n      <td>앤디포스</td>\n      <td>[기재정정]주식분할결정</td>\n      <td>앤디포스</td>\n      <td>2019.03.29</td>\n      <td>NaN</td>\n    </tr>\n    <tr>\n      <th>12</th>\n      <td>13</td>\n      <td>한일철강</td>\n      <td>주식분할결정</td>\n      <td>한일철강</td>\n      <td>2019.03.22</td>\n      <td>NaN</td>\n    </tr>\n    <tr>\n      <th>13</th>\n      <td>14</td>\n      <td>카리스국보</td>\n      <td>[기재정정]주식분할결정</td>\n      <td>카리스국보</td>\n      <td>2019.03.18</td>\n      <td>NaN</td>\n    </tr>\n    <tr>\n      <th>14</th>\n      <td>15</td>\n      <td>금강공업</td>\n      <td>주식분할결정</td>\n      <td>금강공업</td>\n      <td>2019.03.14</td>\n      <td>NaN</td>\n    </tr>\n    <tr>\n      <th>15</th>\n      <td>16</td>\n      <td>미래아이앤지</td>\n      <td>[기재정정]주식분할결정</td>\n      <td>미래아이앤지</td>\n      <td>2019.03.13</td>\n      <td>NaN</td>\n    </tr>\n    <tr>\n      <th>16</th>\n      <td>17</td>\n      <td>에스모 머티리얼즈</td>\n      <td>주식분할결정</td>\n      <td>에스모 머티리얼즈</td>\n      <td>2019.03.13</td>\n      <td>NaN</td>\n    </tr>\n    <tr>\n      <th>17</th>\n      <td>18</td>\n      <td>삼부토건</td>\n      <td>주식분할결정</td>\n      <td>삼부토건</td>\n      <td>2019.03.06</td>\n      <td>NaN</td>\n    </tr>\n    <tr>\n      <th>18</th>\n      <td>19</td>\n      <td>롯데칠성음료</td>\n      <td>주식분할결정</td>\n      <td>롯데칠성음료</td>\n      <td>2019.03.06</td>\n      <td>NaN</td>\n    </tr>\n    <tr>\n      <th>19</th>\n      <td>20</td>\n      <td>아이에이</td>\n      <td>주식분할결정</td>\n      <td>아이에이</td>\n      <td>2019.03.04</td>\n      <td>NaN</td>\n    </tr>\n    <tr>\n      <th>20</th>\n      <td>21</td>\n      <td>대동기어</td>\n      <td>주식분할결정</td>\n      <td>대동기어</td>\n      <td>2019.02.28</td>\n      <td>NaN</td>\n    </tr>\n    <tr>\n      <th>21</th>\n      <td>22</td>\n      <td>한국가구</td>\n      <td>주식분할결정</td>\n      <td>한국가구</td>\n      <td>2019.02.28</td>\n      <td>NaN</td>\n    </tr>\n    <tr>\n      <th>22</th>\n      <td>23</td>\n      <td>두올산업</td>\n      <td>주식분할결정</td>\n      <td>두올산업</td>\n      <td>2019.02.18</td>\n      <td>NaN</td>\n    </tr>\n    <tr>\n      <th>23</th>\n      <td>24</td>\n      <td>베뉴지</td>\n      <td>주식분할결정</td>\n      <td>베뉴지</td>\n      <td>2019.02.12</td>\n      <td>NaN</td>\n    </tr>\n    <tr>\n      <th>24</th>\n      <td>25</td>\n      <td>화천기계</td>\n      <td>주식분할결정</td>\n      <td>화천기계</td>\n      <td>2019.02.08</td>\n      <td>NaN</td>\n    </tr>\n    <tr>\n      <th>25</th>\n      <td>26</td>\n      <td>장원테크</td>\n      <td>주식분할결정</td>\n      <td>장원테크</td>\n      <td>2019.02.01</td>\n      <td>NaN</td>\n    </tr>\n    <tr>\n      <th>26</th>\n      <td>27</td>\n      <td>방림</td>\n      <td>주식분할결정</td>\n      <td>방림</td>\n      <td>2018.12.04</td>\n      <td>NaN</td>\n    </tr>\n    <tr>\n      <th>27</th>\n      <td>28</td>\n      <td>알이피</td>\n      <td>주식분할결정</td>\n      <td>알이피</td>\n      <td>2018.11.13</td>\n      <td>NaN</td>\n    </tr>\n    <tr>\n      <th>28</th>\n      <td>29</td>\n      <td>중앙에너비스</td>\n      <td>[기재정정]주식분할결정</td>\n      <td>중앙에너비스</td>\n      <td>2018.10.30</td>\n      <td>NaN</td>\n    </tr>\n    <tr>\n      <th>29</th>\n      <td>30</td>\n      <td>포스링크</td>\n      <td>[기재정정]주식분할결정</td>\n      <td>포스링크</td>\n      <td>2018.10.19</td>\n      <td>NaN</td>\n    </tr>\n    <tr>\n      <th>...</th>\n      <td>...</td>\n      <td>...</td>\n      <td>...</td>\n      <td>...</td>\n      <td>...</td>\n      <td>...</td>\n    </tr>\n    <tr>\n      <th>70</th>\n      <td>71</td>\n      <td>넥스트사이언스</td>\n      <td>주식분할결정</td>\n      <td>넥스트사이언스</td>\n      <td>2017.05.30</td>\n      <td>NaN</td>\n    </tr>\n    <tr>\n      <th>71</th>\n      <td>72</td>\n      <td>롯데지주</td>\n      <td>주식분할결정</td>\n      <td>롯데지주</td>\n      <td>2017.04.26</td>\n      <td>NaN</td>\n    </tr>\n    <tr>\n      <th>72</th>\n      <td>73</td>\n      <td>하이소닉</td>\n      <td>[기재정정]주식분할결정</td>\n      <td>하이소닉</td>\n      <td>2017.04.21</td>\n      <td>NaN</td>\n    </tr>\n    <tr>\n      <th>73</th>\n      <td>74</td>\n      <td>이에스브이</td>\n      <td>[기재정정]주식분할결정</td>\n      <td>이에스브이</td>\n      <td>2017.04.14</td>\n      <td>NaN</td>\n    </tr>\n    <tr>\n      <th>74</th>\n      <td>75</td>\n      <td>보락</td>\n      <td>[기재정정]주식분할결정</td>\n      <td>보락</td>\n      <td>2017.04.10</td>\n      <td>NaN</td>\n    </tr>\n    <tr>\n      <th>75</th>\n      <td>76</td>\n      <td>THE E&amp;M</td>\n      <td>주식분할결정</td>\n      <td>THE E&amp;M</td>\n      <td>2017.04.06</td>\n      <td>NaN</td>\n    </tr>\n    <tr>\n      <th>76</th>\n      <td>77</td>\n      <td>엔에스쇼핑</td>\n      <td>[기재정정]주식분할결정</td>\n      <td>엔에스쇼핑</td>\n      <td>2017.04.06</td>\n      <td>NaN</td>\n    </tr>\n    <tr>\n      <th>77</th>\n      <td>78</td>\n      <td>보루네오가구</td>\n      <td>[기재정정]주식분할결정</td>\n      <td>보루네오가구</td>\n      <td>2017.04.04</td>\n      <td>NaN</td>\n    </tr>\n    <tr>\n      <th>78</th>\n      <td>79</td>\n      <td>신풍제지</td>\n      <td>[기재정정]주식분할결정</td>\n      <td>신풍제지</td>\n      <td>2017.04.03</td>\n      <td>NaN</td>\n    </tr>\n    <tr>\n      <th>79</th>\n      <td>80</td>\n      <td>덕신하우징</td>\n      <td>[기재정정]주식분할결정</td>\n      <td>덕신하우징</td>\n      <td>2017.03.31</td>\n      <td>NaN</td>\n    </tr>\n    <tr>\n      <th>80</th>\n      <td>81</td>\n      <td>대양제지</td>\n      <td>[기재정정]주식분할결정</td>\n      <td>대양제지</td>\n      <td>2017.03.29</td>\n      <td>NaN</td>\n    </tr>\n    <tr>\n      <th>81</th>\n      <td>82</td>\n      <td>한미반도체</td>\n      <td>[기재정정]주식분할결정</td>\n      <td>한미반도체</td>\n      <td>2017.03.16</td>\n      <td>NaN</td>\n    </tr>\n    <tr>\n      <th>82</th>\n      <td>83</td>\n      <td>티비씨</td>\n      <td>[기재정정]주식분할결정</td>\n      <td>티비씨</td>\n      <td>2017.03.15</td>\n      <td>NaN</td>\n    </tr>\n    <tr>\n      <th>83</th>\n      <td>84</td>\n      <td>삼원테크</td>\n      <td>주식분할결정</td>\n      <td>삼원테크</td>\n      <td>2017.03.13</td>\n      <td>NaN</td>\n    </tr>\n    <tr>\n      <th>84</th>\n      <td>85</td>\n      <td>화승알앤에이</td>\n      <td>[기재정정]주식분할결정</td>\n      <td>화승알앤에이</td>\n      <td>2017.03.08</td>\n      <td>NaN</td>\n    </tr>\n    <tr>\n      <th>85</th>\n      <td>86</td>\n      <td>일성건설</td>\n      <td>주식분할결정</td>\n      <td>일성건설</td>\n      <td>2017.02.24</td>\n      <td>NaN</td>\n    </tr>\n    <tr>\n      <th>86</th>\n      <td>87</td>\n      <td>코오롱머티리얼</td>\n      <td>주식분할결정</td>\n      <td>코오롱머티리얼</td>\n      <td>2017.02.23</td>\n      <td>NaN</td>\n    </tr>\n    <tr>\n      <th>87</th>\n      <td>88</td>\n      <td>대웅</td>\n      <td>주식분할결정</td>\n      <td>대웅</td>\n      <td>2017.02.22</td>\n      <td>NaN</td>\n    </tr>\n    <tr>\n      <th>88</th>\n      <td>89</td>\n      <td>에스맥</td>\n      <td>[기재정정]주식분할결정</td>\n      <td>에스맥</td>\n      <td>2017.02.15</td>\n      <td>NaN</td>\n    </tr>\n    <tr>\n      <th>89</th>\n      <td>90</td>\n      <td>시큐브</td>\n      <td>주식분할결정</td>\n      <td>시큐브</td>\n      <td>2017.02.02</td>\n      <td>NaN</td>\n    </tr>\n    <tr>\n      <th>90</th>\n      <td>91</td>\n      <td>매직마이크로</td>\n      <td>주식분할결정</td>\n      <td>매직마이크로</td>\n      <td>2017.02.01</td>\n      <td>NaN</td>\n    </tr>\n    <tr>\n      <th>91</th>\n      <td>92</td>\n      <td>리드</td>\n      <td>주식분할결정</td>\n      <td>리드</td>\n      <td>2016.12.29</td>\n      <td>NaN</td>\n    </tr>\n    <tr>\n      <th>92</th>\n      <td>93</td>\n      <td>세미콘라이트</td>\n      <td>[기재정정]주식분할결정</td>\n      <td>세미콘라이트</td>\n      <td>2016.12.15</td>\n      <td>NaN</td>\n    </tr>\n    <tr>\n      <th>93</th>\n      <td>94</td>\n      <td>휴림로봇</td>\n      <td>주식분할결정</td>\n      <td>휴림로봇</td>\n      <td>2016.12.15</td>\n      <td>NaN</td>\n    </tr>\n    <tr>\n      <th>94</th>\n      <td>95</td>\n      <td>미원홀딩스</td>\n      <td>주식분할결정</td>\n      <td>미원홀딩스</td>\n      <td>2016.12.12</td>\n      <td>NaN</td>\n    </tr>\n    <tr>\n      <th>95</th>\n      <td>96</td>\n      <td>아리온</td>\n      <td>[기재정정]주식분할결정</td>\n      <td>아리온</td>\n      <td>2016.11.29</td>\n      <td>NaN</td>\n    </tr>\n    <tr>\n      <th>96</th>\n      <td>97</td>\n      <td>오리온홀딩스</td>\n      <td>주식분할결정</td>\n      <td>오리온홀딩스</td>\n      <td>2016.11.22</td>\n      <td>NaN</td>\n    </tr>\n    <tr>\n      <th>97</th>\n      <td>98</td>\n      <td>코디엠</td>\n      <td>[기재정정]주식분할결정</td>\n      <td>코디엠</td>\n      <td>2016.10.21</td>\n      <td>NaN</td>\n    </tr>\n    <tr>\n      <th>98</th>\n      <td>99</td>\n      <td>서산</td>\n      <td>주식분할결정</td>\n      <td>서산</td>\n      <td>2016.10.13</td>\n      <td>NaN</td>\n    </tr>\n    <tr>\n      <th>99</th>\n      <td>100</td>\n      <td>AJ네트웍스</td>\n      <td>주식분할결정</td>\n      <td>AJ네트웍스</td>\n      <td>2016.10.10</td>\n      <td>NaN</td>\n    </tr>\n  </tbody>\n</table>\n<p>100 rows × 6 columns</p>\n</div>",
            "text/plain": "     번호     공시대상회사          보고서명        제출인        접수일자  비고\n0     1  메디파트너생명공학        주식분할결정  메디파트너생명공학  2020.01.09 NaN\n1     2      남영비비안        주식분할결정      남영비비안  2019.12.11 NaN\n2     3    바른테크놀로지  [기재정정]주식분할결정    바른테크놀로지  2019.10.22 NaN\n3     4      에이치엔티        주식분할결정      에이치엔티  2019.10.21 NaN\n4     5    뉴파워프라즈마        주식분할결정    뉴파워프라즈마  2019.09.24 NaN\n5     6      코스모화학  [기재정정]주식분할결정      코스모화학  2019.09.19 NaN\n6     7     흥국에프엔비  [기재정정]주식분할결정     흥국에프엔비  2019.09.16 NaN\n7     8       삼보산업  [기재정정]주식분할결정       삼보산업  2019.05.07 NaN\n8     9       대동금속  [기재정정]주식분할결정       대동금속  2019.04.24 NaN\n9    10        풀무원  [기재정정]주식분할결정        풀무원  2019.04.02 NaN\n10   11      쿠쿠홈시스  [기재정정]주식분할결정      쿠쿠홈시스  2019.04.02 NaN\n11   12       앤디포스  [기재정정]주식분할결정       앤디포스  2019.03.29 NaN\n12   13       한일철강        주식분할결정       한일철강  2019.03.22 NaN\n13   14      카리스국보  [기재정정]주식분할결정      카리스국보  2019.03.18 NaN\n14   15       금강공업        주식분할결정       금강공업  2019.03.14 NaN\n15   16     미래아이앤지  [기재정정]주식분할결정     미래아이앤지  2019.03.13 NaN\n16   17  에스모 머티리얼즈        주식분할결정  에스모 머티리얼즈  2019.03.13 NaN\n17   18       삼부토건        주식분할결정       삼부토건  2019.03.06 NaN\n18   19     롯데칠성음료        주식분할결정     롯데칠성음료  2019.03.06 NaN\n19   20       아이에이        주식분할결정       아이에이  2019.03.04 NaN\n20   21       대동기어        주식분할결정       대동기어  2019.02.28 NaN\n21   22       한국가구        주식분할결정       한국가구  2019.02.28 NaN\n22   23       두올산업        주식분할결정       두올산업  2019.02.18 NaN\n23   24        베뉴지        주식분할결정        베뉴지  2019.02.12 NaN\n24   25       화천기계        주식분할결정       화천기계  2019.02.08 NaN\n25   26       장원테크        주식분할결정       장원테크  2019.02.01 NaN\n26   27         방림        주식분할결정         방림  2018.12.04 NaN\n27   28        알이피        주식분할결정        알이피  2018.11.13 NaN\n28   29     중앙에너비스  [기재정정]주식분할결정     중앙에너비스  2018.10.30 NaN\n29   30       포스링크  [기재정정]주식분할결정       포스링크  2018.10.19 NaN\n..  ...        ...           ...        ...         ...  ..\n70   71    넥스트사이언스        주식분할결정    넥스트사이언스  2017.05.30 NaN\n71   72       롯데지주        주식분할결정       롯데지주  2017.04.26 NaN\n72   73       하이소닉  [기재정정]주식분할결정       하이소닉  2017.04.21 NaN\n73   74      이에스브이  [기재정정]주식분할결정      이에스브이  2017.04.14 NaN\n74   75         보락  [기재정정]주식분할결정         보락  2017.04.10 NaN\n75   76    THE E&M        주식분할결정    THE E&M  2017.04.06 NaN\n76   77      엔에스쇼핑  [기재정정]주식분할결정      엔에스쇼핑  2017.04.06 NaN\n77   78     보루네오가구  [기재정정]주식분할결정     보루네오가구  2017.04.04 NaN\n78   79       신풍제지  [기재정정]주식분할결정       신풍제지  2017.04.03 NaN\n79   80      덕신하우징  [기재정정]주식분할결정      덕신하우징  2017.03.31 NaN\n80   81       대양제지  [기재정정]주식분할결정       대양제지  2017.03.29 NaN\n81   82      한미반도체  [기재정정]주식분할결정      한미반도체  2017.03.16 NaN\n82   83        티비씨  [기재정정]주식분할결정        티비씨  2017.03.15 NaN\n83   84       삼원테크        주식분할결정       삼원테크  2017.03.13 NaN\n84   85     화승알앤에이  [기재정정]주식분할결정     화승알앤에이  2017.03.08 NaN\n85   86       일성건설        주식분할결정       일성건설  2017.02.24 NaN\n86   87    코오롱머티리얼        주식분할결정    코오롱머티리얼  2017.02.23 NaN\n87   88         대웅        주식분할결정         대웅  2017.02.22 NaN\n88   89        에스맥  [기재정정]주식분할결정        에스맥  2017.02.15 NaN\n89   90        시큐브        주식분할결정        시큐브  2017.02.02 NaN\n90   91     매직마이크로        주식분할결정     매직마이크로  2017.02.01 NaN\n91   92         리드        주식분할결정         리드  2016.12.29 NaN\n92   93     세미콘라이트  [기재정정]주식분할결정     세미콘라이트  2016.12.15 NaN\n93   94       휴림로봇        주식분할결정       휴림로봇  2016.12.15 NaN\n94   95      미원홀딩스        주식분할결정      미원홀딩스  2016.12.12 NaN\n95   96        아리온  [기재정정]주식분할결정        아리온  2016.11.29 NaN\n96   97     오리온홀딩스        주식분할결정     오리온홀딩스  2016.11.22 NaN\n97   98        코디엠  [기재정정]주식분할결정        코디엠  2016.10.21 NaN\n98   99         서산        주식분할결정         서산  2016.10.13 NaN\n99  100     AJ네트웍스        주식분할결정     AJ네트웍스  2016.10.10 NaN\n\n[100 rows x 6 columns]"
          },
          "metadata": {}
        }
      ]
    },
    {
      "metadata": {},
      "cell_type": "markdown",
      "source": "#### 페이지 파싱(BeautifulSoup 활용)"
    },
    {
      "metadata": {
        "trusted": true
      },
      "cell_type": "code",
      "source": "soup = bs(response.text, 'html.parser')",
      "execution_count": 14,
      "outputs": []
    },
    {
      "metadata": {},
      "cell_type": "markdown",
      "source": "#### tr_list 설정"
    },
    {
      "metadata": {
        "trusted": true
      },
      "cell_type": "code",
      "source": "tr_list = soup.findAll('tr')",
      "execution_count": 15,
      "outputs": []
    },
    {
      "metadata": {},
      "cell_type": "markdown",
      "source": "#### text 에서 불필요한 문자 remove하는 함수 정의"
    },
    {
      "metadata": {
        "trusted": true
      },
      "cell_type": "code",
      "source": "def remove_text(item) :\n    return item.replace('\\n', \"\").replace('\\t', \"\").replace(',' ,'').replace('\\xa0', '').replace('\\r', '')",
      "execution_count": 16,
      "outputs": []
    },
    {
      "metadata": {},
      "cell_type": "markdown",
      "source": "공시 item에서 띄어쓰기를 없애주는 함수 정의\n\n* 공시 item이 띄어쓰기 통일이 안되어 있음\n\n예시) \"1주당 가액 (원)\", \"1주당 가액(원)\""
    },
    {
      "metadata": {
        "trusted": true
      },
      "cell_type": "code",
      "source": "def del_space(item) :\n    return item.replace(\" \", \"\")",
      "execution_count": 17,
      "outputs": []
    },
    {
      "metadata": {},
      "cell_type": "markdown",
      "source": "#### 각 tr별로 주요 컨텐츠 추출하는 for 문 작성"
    },
    {
      "metadata": {
        "scrolled": true,
        "trusted": true
      },
      "cell_type": "code",
      "source": "result_list = []     # 결과를 담을 빈 리스트 생성\n\nfor tr in progressbar(tr_list[1:]) :         # tr리스트의 1번째는 컬럼명임. 그래서 두번째부터 진행\n    \n    td_list = tr.findAll('td')  # 각 tr item 내에서 td 리스트를 생성\n    except_list = ['메디플란트', '바이오빌', '포스링크']   # 분할 철회 등으로 빼야하는 리스트 생성\n    \n    \n    \n    company = remove_text(td_list[1].text)\n    code_res = requests.get('http://dart.fss.or.kr' + td_list[1].a['href'])\n    code = \"A\" + pd.read_html(code_res.text)[0].iloc[3,1]\n    title = remove_text(td_list[2].text)\n    market = td_list[1].img['title']\n    \n    \n    if ('첨부정정' in title) or ('기타법인' in market) or (company in except_list) :\n        pass \n    \n    else : \n        sub_url = 'http://dart.fss.or.kr' + td_list[2].a['href']\n\n\n        # 하위 페이지 요청하기\n        sub_response = requests.get(sub_url)\n        sub_text = sub_response.text\n\n        # url 마지막에 있는 문서번호 구하기\n        check_num = str(sub_url[-14:])\n\n\n        # dcmNo 구하기 \n        dcmNo = re.findall(r\"\\b\\d{7}\\b\",sub_text.split(check_num)[1])[0]\n\n        # contents가 포함된 html 문서 불러오기\n        contents_url = \"http://dart.fss.or.kr/report/viewer.do\"\n        param_data = {\n        'rcpNo': check_num,    # check_num 사용(앞에서 추출한 고유번호)\n        'dcmNo': dcmNo,        # dcmNo 사용(앞에서 추출한 고유번호)\n        'eleId': '0',\n        'offset': '0',\n        'length': '0',\n        'dtd': 'HTML'\n        }\n\n        contents_request = requests.get(contents_url, params = param_data)\n        contents_df = pd.read_html(contents_request.text)\n        \n        # 각 항목 추출하기\n\n        far_before = int(contents_df[-1][contents_df[-1][0].str.contains('1주당')][1].values[0])\n        far_after = int(contents_df[-1][contents_df[-1][0].str.contains('1주당')][2].values[0])\n        announce_date = contents_df[-1][contents_df[-1][0].str.contains('이사회')][1].values[0]\n        approve_date = contents_df[-1][contents_df[-1][0].str.contains('일정')][2].values[0]\n        close_date = contents_df[-1][contents_df[-1][0].str.contains('종료일')][1].values[0]\n        open_date = contents_df[-1][contents_df[-1][0].str.contains('상장')][1].values[0]\n        \n        result_list.append({\n            '코드' : code,\n            '회사명' : company, \n            '발표일' : announce_date,\n            '액면가(전)' : far_before,\n            '액면가(후)' : far_after, \n            '주주총회일' : approve_date,\n            '거래정지일' : close_date,\n            '거래재개일' : open_date\n        })\n\n        time.sleep(random.randint(50,100)/10)",
      "execution_count": 20,
      "outputs": [
        {
          "output_type": "stream",
          "text": "100% (100 of 100) |######################| Elapsed Time: 0:13:09 Time:  0:13:09\n",
          "name": "stderr"
        }
      ]
    },
    {
      "metadata": {
        "scrolled": true,
        "trusted": true
      },
      "cell_type": "code",
      "source": "result_list",
      "execution_count": 21,
      "outputs": [
        {
          "output_type": "execute_result",
          "execution_count": 21,
          "data": {
            "text/plain": "[{'코드': 'A015540',\n  '회사명': '메디파트너생명공학',\n  '발표일': '2020-01-09',\n  '액면가(전)': 500,\n  '액면가(후)': 100,\n  '주주총회일': '2020-01-31',\n  '거래정지일': '-',\n  '거래재개일': '2020-02-21'},\n {'코드': 'A002070',\n  '회사명': '남영비비안',\n  '발표일': '2019-12-11',\n  '액면가(전)': 1000,\n  '액면가(후)': 100,\n  '주주총회일': '2019-12-27',\n  '거래정지일': '-',\n  '거래재개일': '2020-02-06'},\n {'코드': 'A029480',\n  '회사명': '바른테크놀로지',\n  '발표일': '2019-06-17',\n  '액면가(전)': 500,\n  '액면가(후)': 100,\n  '주주총회일': '2019-11-08',\n  '거래정지일': '-',\n  '거래재개일': '2019-12-24'},\n {'코드': 'A176440',\n  '회사명': '에이치엔티',\n  '발표일': '2019-10-21',\n  '액면가(전)': 500,\n  '액면가(후)': 100,\n  '주주총회일': '2019-11-05',\n  '거래정지일': '-',\n  '거래재개일': '2019-11-21'},\n {'코드': 'A144960',\n  '회사명': '뉴파워프라즈마',\n  '발표일': '2019-09-24',\n  '액면가(전)': 500,\n  '액면가(후)': 100,\n  '주주총회일': '2019-11-08',\n  '거래정지일': '-',\n  '거래재개일': '2019-12-10'},\n {'코드': 'A005420',\n  '회사명': '코스모화학',\n  '발표일': '2019-08-23',\n  '액면가(전)': 5000,\n  '액면가(후)': 1000,\n  '주주총회일': '2019-10-04',\n  '거래정지일': '-',\n  '거래재개일': '2019-11-01'},\n {'코드': 'A189980',\n  '회사명': '흥국에프엔비',\n  '발표일': '2019-09-16',\n  '액면가(전)': 500,\n  '액면가(후)': 100,\n  '주주총회일': '2019-09-16',\n  '거래정지일': '-',\n  '거래재개일': '2019-10-18'},\n {'코드': 'A009620',\n  '회사명': '삼보산업',\n  '발표일': '2019-02-27',\n  '액면가(전)': 500,\n  '액면가(후)': 100,\n  '주주총회일': '2019-03-28',\n  '거래정지일': '2019-04-29',\n  '거래재개일': '2019-05-20'},\n {'코드': 'A020400',\n  '회사명': '대동금속',\n  '발표일': '2019-03-13',\n  '액면가(전)': 5000,\n  '액면가(후)': 1000,\n  '주주총회일': '2019-03-29',\n  '거래정지일': '2019-05-02',\n  '거래재개일': '2019-05-08'},\n {'코드': 'A017810',\n  '회사명': '풀무원',\n  '발표일': '2019-02-27',\n  '액면가(전)': 5000,\n  '액면가(후)': 500,\n  '주주총회일': '2019-03-29',\n  '거래정지일': '2019-05-02',\n  '거래재개일': '2019-05-07'},\n {'코드': 'A284740',\n  '회사명': '쿠쿠홈시스',\n  '발표일': '2019-03-13',\n  '액면가(전)': 500,\n  '액면가(후)': 100,\n  '주주총회일': '2019-03-29',\n  '거래정지일': '2019-05-02',\n  '거래재개일': '2019-05-07'},\n {'코드': 'A238090',\n  '회사명': '앤디포스',\n  '발표일': '2019-02-15',\n  '액면가(전)': 500,\n  '액면가(후)': 200,\n  '주주총회일': '2019-03-04',\n  '거래정지일': '2019-04-05',\n  '거래재개일': '2019-04-23'},\n {'코드': 'A002220',\n  '회사명': '한일철강',\n  '발표일': '2019-03-22',\n  '액면가(전)': 5000,\n  '액면가(후)': 500,\n  '주주총회일': '2019-03-22',\n  '거래정지일': '2019-04-22',\n  '거래재개일': '2019-04-24'},\n {'코드': 'A001140',\n  '회사명': '카리스국보',\n  '발표일': '2019-03-11',\n  '액면가(전)': 5000,\n  '액면가(후)': 500,\n  '주주총회일': '2019-03-27',\n  '거래정지일': '2019-04-30',\n  '거래재개일': '2019-05-03'},\n {'코드': 'A014280',\n  '회사명': '금강공업',\n  '발표일': '2019-03-14',\n  '액면가(전)': 5000,\n  '액면가(후)': 1000,\n  '주주총회일': '2019-03-29',\n  '거래정지일': '2019-05-02',\n  '거래재개일': '2019-05-07'},\n {'코드': 'A007120',\n  '회사명': '미래아이앤지',\n  '발표일': '2019-03-11',\n  '액면가(전)': 500,\n  '액면가(후)': 100,\n  '주주총회일': '2019-03-29',\n  '거래정지일': '2019-04-30',\n  '거래재개일': '2019-05-17'},\n {'코드': 'A087730',\n  '회사명': '에스모 머티리얼즈',\n  '발표일': '2019-03-12',\n  '액면가(전)': 500,\n  '액면가(후)': 100,\n  '주주총회일': '2019-03-29',\n  '거래정지일': '2019-04-29',\n  '거래재개일': '2019-05-03'},\n {'코드': 'A001470',\n  '회사명': '삼부토건',\n  '발표일': '2019-03-06',\n  '액면가(전)': 5000,\n  '액면가(후)': 1000,\n  '주주총회일': '2019-03-27',\n  '거래정지일': '2019-04-29',\n  '거래재개일': '2019-05-02'},\n {'코드': 'A005300',\n  '회사명': '롯데칠성음료',\n  '발표일': '2019-03-06',\n  '액면가(전)': 5000,\n  '액면가(후)': 500,\n  '주주총회일': '2019-03-28',\n  '거래정지일': '2019-05-01',\n  '거래재개일': '2019-05-03'},\n {'코드': 'A038880',\n  '회사명': '아이에이',\n  '발표일': '2019-03-04',\n  '액면가(전)': 500,\n  '액면가(후)': 100,\n  '주주총회일': '2019-03-27',\n  '거래정지일': '2019-04-29',\n  '거래재개일': '2019-05-02'},\n {'코드': 'A008830',\n  '회사명': '대동기어',\n  '발표일': '2019-02-28',\n  '액면가(전)': 5000,\n  '액면가(후)': 500,\n  '주주총회일': '2019-03-22',\n  '거래정지일': '2019-04-25',\n  '거래재개일': '2019-04-30'},\n {'코드': 'A004590',\n  '회사명': '한국가구',\n  '발표일': '2019-02-28',\n  '액면가(전)': 500,\n  '액면가(후)': 100,\n  '주주총회일': '2019-03-21',\n  '거래정지일': '2019-04-23',\n  '거래재개일': '2019-04-26'},\n {'코드': 'A078590',\n  '회사명': '두올산업',\n  '발표일': '2019-02-18',\n  '액면가(전)': 500,\n  '액면가(후)': 200,\n  '주주총회일': '2019-03-05',\n  '거래정지일': '2019-04-08',\n  '거래재개일': '2019-04-23'},\n {'코드': 'A019010',\n  '회사명': '베뉴지',\n  '발표일': '2019-02-12',\n  '액면가(전)': 5000,\n  '액면가(후)': 500,\n  '주주총회일': '2019-03-28',\n  '거래정지일': '2019-04-30',\n  '거래재개일': '2019-05-15'},\n {'코드': 'A010660',\n  '회사명': '화천기계',\n  '발표일': '2019-02-08',\n  '액면가(전)': 5000,\n  '액면가(후)': 500,\n  '주주총회일': '2019-03-22',\n  '거래정지일': '2019-04-25',\n  '거래재개일': '2019-05-15'},\n {'코드': 'A174880',\n  '회사명': '장원테크',\n  '발표일': '2019-02-01',\n  '액면가(전)': 500,\n  '액면가(후)': 100,\n  '주주총회일': '2019-03-20',\n  '거래정지일': '2019-04-22',\n  '거래재개일': '2019-05-03'},\n {'코드': 'A003610',\n  '회사명': '방림',\n  '발표일': '2018-12-04',\n  '액면가(전)': 5000,\n  '액면가(후)': 500,\n  '주주총회일': '2018-12-21',\n  '거래정지일': '2019-01-25',\n  '거래재개일': '2019-01-29'},\n {'코드': 'A131100',\n  '회사명': '알이피',\n  '발표일': '2018-11-13',\n  '액면가(전)': 500,\n  '액면가(후)': 100,\n  '주주총회일': '2018-12-27',\n  '거래정지일': '2019-01-29',\n  '거래재개일': '2019-02-15'},\n {'코드': 'A000440',\n  '회사명': '중앙에너비스',\n  '발표일': '2018-09-07',\n  '액면가(전)': 2500,\n  '액면가(후)': 500,\n  '주주총회일': '2018-10-30',\n  '거래정지일': '2018-12-04',\n  '거래재개일': '2018-12-06'},\n {'코드': 'A083640',\n  '회사명': '인콘',\n  '발표일': '2018-09-11',\n  '액면가(전)': 500,\n  '액면가(후)': 100,\n  '주주총회일': '2018-07-31',\n  '거래정지일': '2018-09-03',\n  '거래재개일': '2018-10-10'},\n {'코드': 'A215200',\n  '회사명': '메가스터디교육',\n  '발표일': '2018-05-28',\n  '액면가(전)': 500,\n  '액면가(후)': 100,\n  '주주총회일': '2018-07-13',\n  '거래정지일': '2018-08-17',\n  '거래재개일': '2018-08-29'},\n {'코드': 'A118990',\n  '회사명': '모트렉스',\n  '발표일': '2018-08-09',\n  '액면가(전)': 500,\n  '액면가(후)': 100,\n  '주주총회일': '2018-07-18',\n  '거래정지일': '2018-08-20',\n  '거래재개일': '2018-08-22'},\n {'코드': 'A003800',\n  '회사명': '에이스침대',\n  '발표일': '2018-08-01',\n  '액면가(전)': 5000,\n  '액면가(후)': 1000,\n  '주주총회일': '2018-09-14',\n  '거래정지일': '2018-10-18',\n  '거래재개일': '2018-10-22'},\n {'코드': 'A035420',\n  '회사명': 'NAVER',\n  '발표일': '2018-07-25',\n  '액면가(전)': 500,\n  '액면가(후)': 100,\n  '주주총회일': '2018-09-07',\n  '거래정지일': '2018-10-10',\n  '거래재개일': '2018-10-12'},\n {'코드': 'A033430',\n  '회사명': '디에스티',\n  '발표일': '2018-03-12',\n  '액면가(전)': 500,\n  '액면가(후)': 100,\n  '주주총회일': '2018-03-27',\n  '거래정지일': '2018-06-28',\n  '거래재개일': '2018-07-16'},\n {'코드': 'A102210',\n  '회사명': '해덕파워웨이',\n  '발표일': '2018-07-02',\n  '액면가(전)': 500,\n  '액면가(후)': 100,\n  '주주총회일': '2018-07-16',\n  '거래정지일': '2018-08-21',\n  '거래재개일': '2018-09-04'},\n {'코드': 'A003410',\n  '회사명': '쌍용양회공업',\n  '발표일': '2018-04-25',\n  '액면가(전)': 5000,\n  '액면가(후)': 1000,\n  '주주총회일': '2018-06-07',\n  '거래정지일': '2018-07-09',\n  '거래재개일': '2018-07-11'},\n {'코드': 'A234100',\n  '회사명': '세원',\n  '발표일': '2018-05-16',\n  '액면가(전)': 500,\n  '액면가(후)': 100,\n  '주주총회일': '2018-05-31',\n  '거래정지일': '2018-07-02',\n  '거래재개일': '2018-07-17'},\n {'코드': 'A010100',\n  '회사명': '한국프랜지공업',\n  '발표일': '2018-02-27',\n  '액면가(전)': 5000,\n  '액면가(후)': 1000,\n  '주주총회일': '2018-03-30',\n  '거래정지일': '2018-05-02',\n  '거래재개일': '2018-05-04'},\n {'코드': 'A013700',\n  '회사명': '까뮤이앤씨',\n  '발표일': '2018-03-09',\n  '액면가(전)': 5000,\n  '액면가(후)': 500,\n  '주주총회일': '2018-03-30',\n  '거래정지일': '2018-05-03',\n  '거래재개일': '2018-05-08'},\n {'코드': 'A004590',\n  '회사명': '한국가구',\n  '발표일': '2018-02-28',\n  '액면가(전)': 1000,\n  '액면가(후)': 500,\n  '주주총회일': '2018-03-22',\n  '거래정지일': '2018-04-24',\n  '거래재개일': '2018-04-27'},\n {'코드': 'A039240',\n  '회사명': '경남스틸',\n  '발표일': '2017-12-13',\n  '액면가(전)': 500,\n  '액면가(후)': 100,\n  '주주총회일': '2018-03-13',\n  '거래정지일': '2018-04-16',\n  '거래재개일': '2018-05-02'},\n {'코드': 'A204320',\n  '회사명': '만도',\n  '발표일': '2018-02-06',\n  '액면가(전)': 5000,\n  '액면가(후)': 1000,\n  '주주총회일': '2018-03-30',\n  '거래정지일': '2018-05-03',\n  '거래재개일': '2018-05-08'},\n {'코드': 'A081660',\n  '회사명': '휠라홀딩스',\n  '발표일': '2018-02-22',\n  '액면가(전)': 5000,\n  '액면가(후)': 1000,\n  '주주총회일': '2018-03-23',\n  '거래정지일': '2018-05-04',\n  '거래재개일': '2018-05-09'},\n {'코드': 'A001940',\n  '회사명': 'KISCO홀딩스',\n  '발표일': '2018-02-23',\n  '액면가(전)': 5000,\n  '액면가(후)': 1000,\n  '주주총회일': '2018-03-23',\n  '거래정지일': '2018-05-02',\n  '거래재개일': '2018-05-04'},\n {'코드': 'A104700',\n  '회사명': '한국철강',\n  '발표일': '2018-02-23',\n  '액면가(전)': 5000,\n  '액면가(후)': 1000,\n  '주주총회일': '2018-03-23',\n  '거래정지일': '2018-05-02',\n  '거래재개일': '2018-05-04'},\n {'코드': 'A014130',\n  '회사명': '한익스프레스',\n  '발표일': '2018-03-05',\n  '액면가(전)': 5000,\n  '액면가(후)': 500,\n  '주주총회일': '2018-03-23',\n  '거래정지일': '2018-04-26',\n  '거래재개일': '2018-04-30'},\n {'코드': 'A003850',\n  '회사명': '보령제약',\n  '발표일': '2018-03-08',\n  '액면가(전)': 2500,\n  '액면가(후)': 500,\n  '주주총회일': '2018-03-23',\n  '거래정지일': '2018-04-26',\n  '거래재개일': '2018-04-30'},\n {'코드': 'A234080',\n  '회사명': 'JW생명과학',\n  '발표일': '2018-02-06',\n  '액면가(전)': 5000,\n  '액면가(후)': 2500,\n  '주주총회일': '2018-03-22',\n  '거래정지일': '2018-04-23',\n  '거래재개일': '2018-04-25'},\n {'코드': 'A005930',\n  '회사명': '삼성전자',\n  '발표일': '2018-01-31',\n  '액면가(전)': 5000,\n  '액면가(후)': 100,\n  '주주총회일': '2018-03-23',\n  '거래정지일': '2018-05-02',\n  '거래재개일': '2018-05-04'},\n {'코드': 'A025980',\n  '회사명': '아난티',\n  '발표일': '2018-03-15',\n  '액면가(전)': 500,\n  '액면가(후)': 100,\n  '주주총회일': '2018-03-30',\n  '거래정지일': '2018-05-02',\n  '거래재개일': '2018-05-17'},\n {'코드': 'A011040',\n  '회사명': '경동제약',\n  '발표일': '2018-02-21',\n  '액면가(전)': 1000,\n  '액면가(후)': 500,\n  '주주총회일': '2018-03-21',\n  '거래정지일': '2018-04-23',\n  '거래재개일': '2018-05-15'},\n {'코드': 'A036480',\n  '회사명': '대성미생물',\n  '발표일': '2018-02-20',\n  '액면가(전)': 5000,\n  '액면가(후)': 500,\n  '주주총회일': '2018-03-23',\n  '거래정지일': '2018-04-26',\n  '거래재개일': '2018-05-16'},\n {'코드': 'A115530',\n  '회사명': '씨엔플러스',\n  '발표일': '2017-12-01',\n  '액면가(전)': 500,\n  '액면가(후)': 100,\n  '주주총회일': '2018-01-18',\n  '거래정지일': '2018-02-19',\n  '거래재개일': '2018-03-09'},\n {'코드': 'A005070',\n  '회사명': '코스모신소재',\n  '발표일': '2018-02-12',\n  '액면가(전)': 5000,\n  '액면가(후)': 1000,\n  '주주총회일': '2018-03-16',\n  '거래정지일': '2018-04-19',\n  '거래재개일': '2018-05-16'},\n {'코드': 'A138360',\n  '회사명': '에이씨티',\n  '발표일': '2018-01-25',\n  '액면가(전)': 500,\n  '액면가(후)': 100,\n  '주주총회일': '2018-02-13',\n  '거래정지일': '2018-03-13',\n  '거래재개일': '2018-04-04'},\n {'코드': 'A001070',\n  '회사명': '대한방직',\n  '발표일': '2017-11-14',\n  '액면가(전)': 5000,\n  '액면가(후)': 1000,\n  '주주총회일': '2017-11-29',\n  '거래정지일': '2018-01-04',\n  '거래재개일': '2018-01-18'},\n {'코드': 'A196450',\n  '회사명': '디오스텍',\n  '발표일': '2017-09-20',\n  '액면가(전)': 500,\n  '액면가(후)': 200,\n  '주주총회일': '2017-11-08',\n  '거래정지일': '2017-12-11',\n  '거래재개일': '2017-12-27'},\n {'코드': 'A137940',\n  '회사명': '넥스트아이',\n  '발표일': '2017-08-11',\n  '액면가(전)': 500,\n  '액면가(후)': 100,\n  '주주총회일': '2017-09-29',\n  '거래정지일': '2017-10-30',\n  '거래재개일': '2017-11-15'},\n {'코드': 'A073070',\n  '회사명': '에스모',\n  '발표일': '2017-10-16',\n  '액면가(전)': 500,\n  '액면가(후)': 100,\n  '주주총회일': '2017-10-31',\n  '거래정지일': '2017-12-04',\n  '거래재개일': '2017-12-22'},\n {'코드': 'A151910',\n  '회사명': '나노스',\n  '발표일': '2017-09-12',\n  '액면가(전)': 500,\n  '액면가(후)': 100,\n  '주주총회일': '2017-10-30',\n  '거래정지일': '2017-12-01',\n  '거래재개일': '2017-12-19'},\n {'코드': 'A002410',\n  '회사명': '범양건영',\n  '발표일': '2017-08-28',\n  '액면가(전)': 5000,\n  '액면가(후)': 1000,\n  '주주총회일': '2017-10-13',\n  '거래정지일': '2017-11-17',\n  '거래재개일': '2017-12-06'},\n {'코드': 'A004410',\n  '회사명': '서울식품공업',\n  '발표일': '2017-07-28',\n  '액면가(전)': 2500,\n  '액면가(후)': 100,\n  '주주총회일': '2017-09-08',\n  '거래정지일': '2017-10-12',\n  '거래재개일': '2017-10-25'},\n {'코드': 'A068940',\n  '회사명': '아이씨케이',\n  '발표일': '2017-07-21',\n  '액면가(전)': 500,\n  '액면가(후)': 200,\n  '주주총회일': '2017-08-25',\n  '거래정지일': '2017-09-27',\n  '거래재개일': '2017-10-23'},\n {'코드': 'A042040',\n  '회사명': '케이피엠테크',\n  '발표일': '2017-03-28',\n  '액면가(전)': 500,\n  '액면가(후)': 100,\n  '주주총회일': '2017-05-11',\n  '거래정지일': '2017-06-11',\n  '거래재개일': '2017-06-29'},\n {'코드': 'A003580',\n  '회사명': '넥스트사이언스',\n  '발표일': '2017-05-30',\n  '액면가(전)': 5000,\n  '액면가(후)': 500,\n  '주주총회일': '2017-07-21',\n  '거래정지일': '2017-08-21',\n  '거래재개일': '2017-09-08'},\n {'코드': 'A004990',\n  '회사명': '롯데지주',\n  '발표일': '2017-04-26',\n  '액면가(전)': 500,\n  '액면가(후)': 200,\n  '주주총회일': '2017-08-29',\n  '거래정지일': '2017-09-29',\n  '거래재개일': '2017-10-30'},\n {'코드': 'A106080',\n  '회사명': '하이소닉',\n  '발표일': '2017-03-09',\n  '액면가(전)': 500,\n  '액면가(후)': 200,\n  '주주총회일': '2017-03-24',\n  '거래정지일': '2017-04-27',\n  '거래재개일': '2017-05-23'},\n {'코드': 'A223310',\n  '회사명': '이에스브이',\n  '발표일': '2017-02-24',\n  '액면가(전)': 500,\n  '액면가(후)': 100,\n  '주주총회일': '2017-03-17',\n  '거래정지일': '2017-04-18',\n  '거래재개일': '2017-05-10'},\n {'코드': 'A002760',\n  '회사명': '보락',\n  '발표일': '2017-02-09',\n  '액면가(전)': 1000,\n  '액면가(후)': 200,\n  '주주총회일': '2017-03-24',\n  '거래정지일': '2017-04-24',\n  '거래재개일': '2017-05-11'},\n {'코드': 'A089230',\n  '회사명': 'THE E&M',\n  '발표일': '2017-04-06',\n  '액면가(전)': 500,\n  '액면가(후)': 100,\n  '주주총회일': '2017-05-25',\n  '거래정지일': '2017-06-26',\n  '거래재개일': '2017-07-11'},\n {'코드': 'A138250',\n  '회사명': '엔에스쇼핑',\n  '발표일': '2017-02-03',\n  '액면가(전)': 5000,\n  '액면가(후)': 500,\n  '주주총회일': '2017-03-17',\n  '거래정지일': '2017-04-20',\n  '거래재개일': '2017-05-11'},\n {'코드': 'A002870',\n  '회사명': '신풍제지',\n  '발표일': '2017-02-16',\n  '액면가(전)': 5000,\n  '액면가(후)': 500,\n  '주주총회일': '2017-03-17',\n  '거래정지일': '2017-04-20',\n  '거래재개일': '2017-05-11'},\n {'코드': 'A090410',\n  '회사명': '덕신하우징',\n  '발표일': '2017-03-06',\n  '액면가(전)': 500,\n  '액면가(후)': 100,\n  '주주총회일': '2017-03-24',\n  '거래정지일': '2017-04-27',\n  '거래재개일': '2017-05-22'},\n {'코드': 'A006580',\n  '회사명': '대양제지',\n  '발표일': '2017-03-09',\n  '액면가(전)': 5000,\n  '액면가(후)': 500,\n  '주주총회일': '-',\n  '거래정지일': '2017-04-27',\n  '거래재개일': '2017-05-26'},\n {'코드': 'A042700',\n  '회사명': '한미반도체',\n  '발표일': '2017-02-14',\n  '액면가(전)': 500,\n  '액면가(후)': 200,\n  '주주총회일': '2017-03-10',\n  '거래정지일': '2017-04-13',\n  '거래재개일': '2017-05-11'},\n {'코드': 'A033830',\n  '회사명': '티비씨',\n  '발표일': '2017-03-03',\n  '액면가(전)': 5000,\n  '액면가(후)': 500,\n  '주주총회일': '2017-03-22',\n  '거래정지일': '2017-04-23',\n  '거래재개일': '2017-05-10'},\n {'코드': 'A073640',\n  '회사명': '삼원테크',\n  '발표일': '2017-03-13',\n  '액면가(전)': 500,\n  '액면가(후)': 100,\n  '주주총회일': '2017-03-31',\n  '거래정지일': '2017-05-16',\n  '거래재개일': '2017-05-26'},\n {'코드': 'A013520',\n  '회사명': '화승알앤에이',\n  '발표일': '2017-03-08',\n  '액면가(전)': 5000,\n  '액면가(후)': 500,\n  '주주총회일': '2017-03-24',\n  '거래정지일': '2017-04-25',\n  '거래재개일': '2017-05-18'},\n {'코드': 'A013360',\n  '회사명': '일성건설',\n  '발표일': '2017-02-24',\n  '액면가(전)': 5000,\n  '액면가(후)': 500,\n  '주주총회일': '2017-03-24',\n  '거래정지일': '2017-04-27',\n  '거래재개일': '2017-05-18'},\n {'코드': 'A144620',\n  '회사명': '코오롱머티리얼',\n  '발표일': '2017-02-23',\n  '액면가(전)': 5000,\n  '액면가(후)': 1000,\n  '주주총회일': '2017-03-24',\n  '거래정지일': '2017-04-27',\n  '거래재개일': '2017-05-18'},\n {'코드': 'A003090',\n  '회사명': '대웅',\n  '발표일': '2017-02-22',\n  '액면가(전)': 2500,\n  '액면가(후)': 500,\n  '주주총회일': '2017-03-24',\n  '거래정지일': '2017-04-27',\n  '거래재개일': '2017-05-18'},\n {'코드': 'A097780',\n  '회사명': '에스맥',\n  '발표일': '2017-01-05',\n  '액면가(전)': 500,\n  '액면가(후)': 200,\n  '주주총회일': '2017-03-06',\n  '거래정지일': '2017-04-07',\n  '거래재개일': '2017-04-25'},\n {'코드': 'A131090',\n  '회사명': '시큐브',\n  '발표일': '2017-02-02',\n  '액면가(전)': 500,\n  '액면가(후)': 100,\n  '주주총회일': '2017-03-24',\n  '거래정지일': '2017-04-27',\n  '거래재개일': '2017-05-22'},\n {'코드': 'A127160',\n  '회사명': '매직마이크로',\n  '발표일': '2017-02-01',\n  '액면가(전)': 500,\n  '액면가(후)': 100,\n  '주주총회일': '2017-03-24',\n  '거래정지일': '2017-04-27',\n  '거래재개일': '2017-05-16'},\n {'코드': 'A197210',\n  '회사명': '리드',\n  '발표일': '2016-12-29',\n  '액면가(전)': 500,\n  '액면가(후)': 100,\n  '주주총회일': '2017-03-03',\n  '거래정지일': '2017-04-07',\n  '거래재개일': '2017-04-26'},\n {'코드': 'A214310',\n  '회사명': '세미콘라이트',\n  '발표일': '2016-11-11',\n  '액면가(전)': 500,\n  '액면가(후)': 100,\n  '주주총회일': '2016-12-13',\n  '거래정지일': '2017-01-14',\n  '거래재개일': '2017-02-03'},\n {'코드': 'A090710',\n  '회사명': '휴림로봇',\n  '발표일': '2016-12-14',\n  '액면가(전)': 500,\n  '액면가(후)': 200,\n  '주주총회일': '2017-02-07',\n  '거래정지일': '2017-03-08',\n  '거래재개일': '2017-03-28'},\n {'코드': 'A107590',\n  '회사명': '미원홀딩스',\n  '발표일': '2016-12-12',\n  '액면가(전)': 5000,\n  '액면가(후)': 500,\n  '주주총회일': '2017-03-28',\n  '거래정지일': '2017-04-28',\n  '거래재개일': '2017-05-22'},\n {'코드': 'A058220',\n  '회사명': '아리온',\n  '발표일': '2016-10-07',\n  '액면가(전)': 500,\n  '액면가(후)': 200,\n  '주주총회일': '2016-12-21',\n  '거래정지일': '2017-01-25',\n  '거래재개일': '2017-02-23'},\n {'코드': 'A001800',\n  '회사명': '오리온홀딩스',\n  '발표일': '2016-11-22',\n  '액면가(전)': 5000,\n  '액면가(후)': 500,\n  '주주총회일': '2017-03-31',\n  '거래정지일': '2017-05-31',\n  '거래재개일': '2017-07-07'},\n {'코드': 'A224060',\n  '회사명': '코디엠',\n  '발표일': '2016-09-19',\n  '액면가(전)': 500,\n  '액면가(후)': 100,\n  '주주총회일': '2016-10-04',\n  '거래정지일': '2016-11-05',\n  '거래재개일': '2016-11-24'},\n {'코드': 'A079650',\n  '회사명': '서산',\n  '발표일': '2016-10-13',\n  '액면가(전)': 5000,\n  '액면가(후)': 100,\n  '주주총회일': '2016-12-02',\n  '거래정지일': '2017-01-05',\n  '거래재개일': '2017-01-19'},\n {'코드': 'A095570',\n  '회사명': 'AJ네트웍스',\n  '발표일': '2016-10-10',\n  '액면가(전)': 5000,\n  '액면가(후)': 1000,\n  '주주총회일': '2016-11-30',\n  '거래정지일': '2016-12-30',\n  '거래재개일': '2017-01-17'}]"
          },
          "metadata": {}
        }
      ]
    },
    {
      "metadata": {
        "scrolled": true,
        "trusted": true
      },
      "cell_type": "code",
      "source": "work_df = pd.DataFrame(result_list)\nwork_df",
      "execution_count": 22,
      "outputs": [
        {
          "output_type": "execute_result",
          "execution_count": 22,
          "data": {
            "text/html": "<div>\n<style scoped>\n    .dataframe tbody tr th:only-of-type {\n        vertical-align: middle;\n    }\n\n    .dataframe tbody tr th {\n        vertical-align: top;\n    }\n\n    .dataframe thead th {\n        text-align: right;\n    }\n</style>\n<table border=\"1\" class=\"dataframe\">\n  <thead>\n    <tr style=\"text-align: right;\">\n      <th></th>\n      <th>거래재개일</th>\n      <th>거래정지일</th>\n      <th>발표일</th>\n      <th>액면가(전)</th>\n      <th>액면가(후)</th>\n      <th>주주총회일</th>\n      <th>코드</th>\n      <th>회사명</th>\n    </tr>\n  </thead>\n  <tbody>\n    <tr>\n      <th>0</th>\n      <td>2020-02-21</td>\n      <td>-</td>\n      <td>2020-01-09</td>\n      <td>500</td>\n      <td>100</td>\n      <td>2020-01-31</td>\n      <td>A015540</td>\n      <td>메디파트너생명공학</td>\n    </tr>\n    <tr>\n      <th>1</th>\n      <td>2020-02-06</td>\n      <td>-</td>\n      <td>2019-12-11</td>\n      <td>1000</td>\n      <td>100</td>\n      <td>2019-12-27</td>\n      <td>A002070</td>\n      <td>남영비비안</td>\n    </tr>\n    <tr>\n      <th>2</th>\n      <td>2019-12-24</td>\n      <td>-</td>\n      <td>2019-06-17</td>\n      <td>500</td>\n      <td>100</td>\n      <td>2019-11-08</td>\n      <td>A029480</td>\n      <td>바른테크놀로지</td>\n    </tr>\n    <tr>\n      <th>3</th>\n      <td>2019-11-21</td>\n      <td>-</td>\n      <td>2019-10-21</td>\n      <td>500</td>\n      <td>100</td>\n      <td>2019-11-05</td>\n      <td>A176440</td>\n      <td>에이치엔티</td>\n    </tr>\n    <tr>\n      <th>4</th>\n      <td>2019-12-10</td>\n      <td>-</td>\n      <td>2019-09-24</td>\n      <td>500</td>\n      <td>100</td>\n      <td>2019-11-08</td>\n      <td>A144960</td>\n      <td>뉴파워프라즈마</td>\n    </tr>\n    <tr>\n      <th>5</th>\n      <td>2019-11-01</td>\n      <td>-</td>\n      <td>2019-08-23</td>\n      <td>5000</td>\n      <td>1000</td>\n      <td>2019-10-04</td>\n      <td>A005420</td>\n      <td>코스모화학</td>\n    </tr>\n    <tr>\n      <th>6</th>\n      <td>2019-10-18</td>\n      <td>-</td>\n      <td>2019-09-16</td>\n      <td>500</td>\n      <td>100</td>\n      <td>2019-09-16</td>\n      <td>A189980</td>\n      <td>흥국에프엔비</td>\n    </tr>\n    <tr>\n      <th>7</th>\n      <td>2019-05-20</td>\n      <td>2019-04-29</td>\n      <td>2019-02-27</td>\n      <td>500</td>\n      <td>100</td>\n      <td>2019-03-28</td>\n      <td>A009620</td>\n      <td>삼보산업</td>\n    </tr>\n    <tr>\n      <th>8</th>\n      <td>2019-05-08</td>\n      <td>2019-05-02</td>\n      <td>2019-03-13</td>\n      <td>5000</td>\n      <td>1000</td>\n      <td>2019-03-29</td>\n      <td>A020400</td>\n      <td>대동금속</td>\n    </tr>\n    <tr>\n      <th>9</th>\n      <td>2019-05-07</td>\n      <td>2019-05-02</td>\n      <td>2019-02-27</td>\n      <td>5000</td>\n      <td>500</td>\n      <td>2019-03-29</td>\n      <td>A017810</td>\n      <td>풀무원</td>\n    </tr>\n    <tr>\n      <th>10</th>\n      <td>2019-05-07</td>\n      <td>2019-05-02</td>\n      <td>2019-03-13</td>\n      <td>500</td>\n      <td>100</td>\n      <td>2019-03-29</td>\n      <td>A284740</td>\n      <td>쿠쿠홈시스</td>\n    </tr>\n    <tr>\n      <th>11</th>\n      <td>2019-04-23</td>\n      <td>2019-04-05</td>\n      <td>2019-02-15</td>\n      <td>500</td>\n      <td>200</td>\n      <td>2019-03-04</td>\n      <td>A238090</td>\n      <td>앤디포스</td>\n    </tr>\n    <tr>\n      <th>12</th>\n      <td>2019-04-24</td>\n      <td>2019-04-22</td>\n      <td>2019-03-22</td>\n      <td>5000</td>\n      <td>500</td>\n      <td>2019-03-22</td>\n      <td>A002220</td>\n      <td>한일철강</td>\n    </tr>\n    <tr>\n      <th>13</th>\n      <td>2019-05-03</td>\n      <td>2019-04-30</td>\n      <td>2019-03-11</td>\n      <td>5000</td>\n      <td>500</td>\n      <td>2019-03-27</td>\n      <td>A001140</td>\n      <td>카리스국보</td>\n    </tr>\n    <tr>\n      <th>14</th>\n      <td>2019-05-07</td>\n      <td>2019-05-02</td>\n      <td>2019-03-14</td>\n      <td>5000</td>\n      <td>1000</td>\n      <td>2019-03-29</td>\n      <td>A014280</td>\n      <td>금강공업</td>\n    </tr>\n    <tr>\n      <th>15</th>\n      <td>2019-05-17</td>\n      <td>2019-04-30</td>\n      <td>2019-03-11</td>\n      <td>500</td>\n      <td>100</td>\n      <td>2019-03-29</td>\n      <td>A007120</td>\n      <td>미래아이앤지</td>\n    </tr>\n    <tr>\n      <th>16</th>\n      <td>2019-05-03</td>\n      <td>2019-04-29</td>\n      <td>2019-03-12</td>\n      <td>500</td>\n      <td>100</td>\n      <td>2019-03-29</td>\n      <td>A087730</td>\n      <td>에스모 머티리얼즈</td>\n    </tr>\n    <tr>\n      <th>17</th>\n      <td>2019-05-02</td>\n      <td>2019-04-29</td>\n      <td>2019-03-06</td>\n      <td>5000</td>\n      <td>1000</td>\n      <td>2019-03-27</td>\n      <td>A001470</td>\n      <td>삼부토건</td>\n    </tr>\n    <tr>\n      <th>18</th>\n      <td>2019-05-03</td>\n      <td>2019-05-01</td>\n      <td>2019-03-06</td>\n      <td>5000</td>\n      <td>500</td>\n      <td>2019-03-28</td>\n      <td>A005300</td>\n      <td>롯데칠성음료</td>\n    </tr>\n    <tr>\n      <th>19</th>\n      <td>2019-05-02</td>\n      <td>2019-04-29</td>\n      <td>2019-03-04</td>\n      <td>500</td>\n      <td>100</td>\n      <td>2019-03-27</td>\n      <td>A038880</td>\n      <td>아이에이</td>\n    </tr>\n    <tr>\n      <th>20</th>\n      <td>2019-04-30</td>\n      <td>2019-04-25</td>\n      <td>2019-02-28</td>\n      <td>5000</td>\n      <td>500</td>\n      <td>2019-03-22</td>\n      <td>A008830</td>\n      <td>대동기어</td>\n    </tr>\n    <tr>\n      <th>21</th>\n      <td>2019-04-26</td>\n      <td>2019-04-23</td>\n      <td>2019-02-28</td>\n      <td>500</td>\n      <td>100</td>\n      <td>2019-03-21</td>\n      <td>A004590</td>\n      <td>한국가구</td>\n    </tr>\n    <tr>\n      <th>22</th>\n      <td>2019-04-23</td>\n      <td>2019-04-08</td>\n      <td>2019-02-18</td>\n      <td>500</td>\n      <td>200</td>\n      <td>2019-03-05</td>\n      <td>A078590</td>\n      <td>두올산업</td>\n    </tr>\n    <tr>\n      <th>23</th>\n      <td>2019-05-15</td>\n      <td>2019-04-30</td>\n      <td>2019-02-12</td>\n      <td>5000</td>\n      <td>500</td>\n      <td>2019-03-28</td>\n      <td>A019010</td>\n      <td>베뉴지</td>\n    </tr>\n    <tr>\n      <th>24</th>\n      <td>2019-05-15</td>\n      <td>2019-04-25</td>\n      <td>2019-02-08</td>\n      <td>5000</td>\n      <td>500</td>\n      <td>2019-03-22</td>\n      <td>A010660</td>\n      <td>화천기계</td>\n    </tr>\n    <tr>\n      <th>25</th>\n      <td>2019-05-03</td>\n      <td>2019-04-22</td>\n      <td>2019-02-01</td>\n      <td>500</td>\n      <td>100</td>\n      <td>2019-03-20</td>\n      <td>A174880</td>\n      <td>장원테크</td>\n    </tr>\n    <tr>\n      <th>26</th>\n      <td>2019-01-29</td>\n      <td>2019-01-25</td>\n      <td>2018-12-04</td>\n      <td>5000</td>\n      <td>500</td>\n      <td>2018-12-21</td>\n      <td>A003610</td>\n      <td>방림</td>\n    </tr>\n    <tr>\n      <th>27</th>\n      <td>2019-02-15</td>\n      <td>2019-01-29</td>\n      <td>2018-11-13</td>\n      <td>500</td>\n      <td>100</td>\n      <td>2018-12-27</td>\n      <td>A131100</td>\n      <td>알이피</td>\n    </tr>\n    <tr>\n      <th>28</th>\n      <td>2018-12-06</td>\n      <td>2018-12-04</td>\n      <td>2018-09-07</td>\n      <td>2500</td>\n      <td>500</td>\n      <td>2018-10-30</td>\n      <td>A000440</td>\n      <td>중앙에너비스</td>\n    </tr>\n    <tr>\n      <th>29</th>\n      <td>2018-10-10</td>\n      <td>2018-09-03</td>\n      <td>2018-09-11</td>\n      <td>500</td>\n      <td>100</td>\n      <td>2018-07-31</td>\n      <td>A083640</td>\n      <td>인콘</td>\n    </tr>\n    <tr>\n      <th>...</th>\n      <td>...</td>\n      <td>...</td>\n      <td>...</td>\n      <td>...</td>\n      <td>...</td>\n      <td>...</td>\n      <td>...</td>\n      <td>...</td>\n    </tr>\n    <tr>\n      <th>64</th>\n      <td>2017-06-29</td>\n      <td>2017-06-11</td>\n      <td>2017-03-28</td>\n      <td>500</td>\n      <td>100</td>\n      <td>2017-05-11</td>\n      <td>A042040</td>\n      <td>케이피엠테크</td>\n    </tr>\n    <tr>\n      <th>65</th>\n      <td>2017-09-08</td>\n      <td>2017-08-21</td>\n      <td>2017-05-30</td>\n      <td>5000</td>\n      <td>500</td>\n      <td>2017-07-21</td>\n      <td>A003580</td>\n      <td>넥스트사이언스</td>\n    </tr>\n    <tr>\n      <th>66</th>\n      <td>2017-10-30</td>\n      <td>2017-09-29</td>\n      <td>2017-04-26</td>\n      <td>500</td>\n      <td>200</td>\n      <td>2017-08-29</td>\n      <td>A004990</td>\n      <td>롯데지주</td>\n    </tr>\n    <tr>\n      <th>67</th>\n      <td>2017-05-23</td>\n      <td>2017-04-27</td>\n      <td>2017-03-09</td>\n      <td>500</td>\n      <td>200</td>\n      <td>2017-03-24</td>\n      <td>A106080</td>\n      <td>하이소닉</td>\n    </tr>\n    <tr>\n      <th>68</th>\n      <td>2017-05-10</td>\n      <td>2017-04-18</td>\n      <td>2017-02-24</td>\n      <td>500</td>\n      <td>100</td>\n      <td>2017-03-17</td>\n      <td>A223310</td>\n      <td>이에스브이</td>\n    </tr>\n    <tr>\n      <th>69</th>\n      <td>2017-05-11</td>\n      <td>2017-04-24</td>\n      <td>2017-02-09</td>\n      <td>1000</td>\n      <td>200</td>\n      <td>2017-03-24</td>\n      <td>A002760</td>\n      <td>보락</td>\n    </tr>\n    <tr>\n      <th>70</th>\n      <td>2017-07-11</td>\n      <td>2017-06-26</td>\n      <td>2017-04-06</td>\n      <td>500</td>\n      <td>100</td>\n      <td>2017-05-25</td>\n      <td>A089230</td>\n      <td>THE E&amp;M</td>\n    </tr>\n    <tr>\n      <th>71</th>\n      <td>2017-05-11</td>\n      <td>2017-04-20</td>\n      <td>2017-02-03</td>\n      <td>5000</td>\n      <td>500</td>\n      <td>2017-03-17</td>\n      <td>A138250</td>\n      <td>엔에스쇼핑</td>\n    </tr>\n    <tr>\n      <th>72</th>\n      <td>2017-05-11</td>\n      <td>2017-04-20</td>\n      <td>2017-02-16</td>\n      <td>5000</td>\n      <td>500</td>\n      <td>2017-03-17</td>\n      <td>A002870</td>\n      <td>신풍제지</td>\n    </tr>\n    <tr>\n      <th>73</th>\n      <td>2017-05-22</td>\n      <td>2017-04-27</td>\n      <td>2017-03-06</td>\n      <td>500</td>\n      <td>100</td>\n      <td>2017-03-24</td>\n      <td>A090410</td>\n      <td>덕신하우징</td>\n    </tr>\n    <tr>\n      <th>74</th>\n      <td>2017-05-26</td>\n      <td>2017-04-27</td>\n      <td>2017-03-09</td>\n      <td>5000</td>\n      <td>500</td>\n      <td>-</td>\n      <td>A006580</td>\n      <td>대양제지</td>\n    </tr>\n    <tr>\n      <th>75</th>\n      <td>2017-05-11</td>\n      <td>2017-04-13</td>\n      <td>2017-02-14</td>\n      <td>500</td>\n      <td>200</td>\n      <td>2017-03-10</td>\n      <td>A042700</td>\n      <td>한미반도체</td>\n    </tr>\n    <tr>\n      <th>76</th>\n      <td>2017-05-10</td>\n      <td>2017-04-23</td>\n      <td>2017-03-03</td>\n      <td>5000</td>\n      <td>500</td>\n      <td>2017-03-22</td>\n      <td>A033830</td>\n      <td>티비씨</td>\n    </tr>\n    <tr>\n      <th>77</th>\n      <td>2017-05-26</td>\n      <td>2017-05-16</td>\n      <td>2017-03-13</td>\n      <td>500</td>\n      <td>100</td>\n      <td>2017-03-31</td>\n      <td>A073640</td>\n      <td>삼원테크</td>\n    </tr>\n    <tr>\n      <th>78</th>\n      <td>2017-05-18</td>\n      <td>2017-04-25</td>\n      <td>2017-03-08</td>\n      <td>5000</td>\n      <td>500</td>\n      <td>2017-03-24</td>\n      <td>A013520</td>\n      <td>화승알앤에이</td>\n    </tr>\n    <tr>\n      <th>79</th>\n      <td>2017-05-18</td>\n      <td>2017-04-27</td>\n      <td>2017-02-24</td>\n      <td>5000</td>\n      <td>500</td>\n      <td>2017-03-24</td>\n      <td>A013360</td>\n      <td>일성건설</td>\n    </tr>\n    <tr>\n      <th>80</th>\n      <td>2017-05-18</td>\n      <td>2017-04-27</td>\n      <td>2017-02-23</td>\n      <td>5000</td>\n      <td>1000</td>\n      <td>2017-03-24</td>\n      <td>A144620</td>\n      <td>코오롱머티리얼</td>\n    </tr>\n    <tr>\n      <th>81</th>\n      <td>2017-05-18</td>\n      <td>2017-04-27</td>\n      <td>2017-02-22</td>\n      <td>2500</td>\n      <td>500</td>\n      <td>2017-03-24</td>\n      <td>A003090</td>\n      <td>대웅</td>\n    </tr>\n    <tr>\n      <th>82</th>\n      <td>2017-04-25</td>\n      <td>2017-04-07</td>\n      <td>2017-01-05</td>\n      <td>500</td>\n      <td>200</td>\n      <td>2017-03-06</td>\n      <td>A097780</td>\n      <td>에스맥</td>\n    </tr>\n    <tr>\n      <th>83</th>\n      <td>2017-05-22</td>\n      <td>2017-04-27</td>\n      <td>2017-02-02</td>\n      <td>500</td>\n      <td>100</td>\n      <td>2017-03-24</td>\n      <td>A131090</td>\n      <td>시큐브</td>\n    </tr>\n    <tr>\n      <th>84</th>\n      <td>2017-05-16</td>\n      <td>2017-04-27</td>\n      <td>2017-02-01</td>\n      <td>500</td>\n      <td>100</td>\n      <td>2017-03-24</td>\n      <td>A127160</td>\n      <td>매직마이크로</td>\n    </tr>\n    <tr>\n      <th>85</th>\n      <td>2017-04-26</td>\n      <td>2017-04-07</td>\n      <td>2016-12-29</td>\n      <td>500</td>\n      <td>100</td>\n      <td>2017-03-03</td>\n      <td>A197210</td>\n      <td>리드</td>\n    </tr>\n    <tr>\n      <th>86</th>\n      <td>2017-02-03</td>\n      <td>2017-01-14</td>\n      <td>2016-11-11</td>\n      <td>500</td>\n      <td>100</td>\n      <td>2016-12-13</td>\n      <td>A214310</td>\n      <td>세미콘라이트</td>\n    </tr>\n    <tr>\n      <th>87</th>\n      <td>2017-03-28</td>\n      <td>2017-03-08</td>\n      <td>2016-12-14</td>\n      <td>500</td>\n      <td>200</td>\n      <td>2017-02-07</td>\n      <td>A090710</td>\n      <td>휴림로봇</td>\n    </tr>\n    <tr>\n      <th>88</th>\n      <td>2017-05-22</td>\n      <td>2017-04-28</td>\n      <td>2016-12-12</td>\n      <td>5000</td>\n      <td>500</td>\n      <td>2017-03-28</td>\n      <td>A107590</td>\n      <td>미원홀딩스</td>\n    </tr>\n    <tr>\n      <th>89</th>\n      <td>2017-02-23</td>\n      <td>2017-01-25</td>\n      <td>2016-10-07</td>\n      <td>500</td>\n      <td>200</td>\n      <td>2016-12-21</td>\n      <td>A058220</td>\n      <td>아리온</td>\n    </tr>\n    <tr>\n      <th>90</th>\n      <td>2017-07-07</td>\n      <td>2017-05-31</td>\n      <td>2016-11-22</td>\n      <td>5000</td>\n      <td>500</td>\n      <td>2017-03-31</td>\n      <td>A001800</td>\n      <td>오리온홀딩스</td>\n    </tr>\n    <tr>\n      <th>91</th>\n      <td>2016-11-24</td>\n      <td>2016-11-05</td>\n      <td>2016-09-19</td>\n      <td>500</td>\n      <td>100</td>\n      <td>2016-10-04</td>\n      <td>A224060</td>\n      <td>코디엠</td>\n    </tr>\n    <tr>\n      <th>92</th>\n      <td>2017-01-19</td>\n      <td>2017-01-05</td>\n      <td>2016-10-13</td>\n      <td>5000</td>\n      <td>100</td>\n      <td>2016-12-02</td>\n      <td>A079650</td>\n      <td>서산</td>\n    </tr>\n    <tr>\n      <th>93</th>\n      <td>2017-01-17</td>\n      <td>2016-12-30</td>\n      <td>2016-10-10</td>\n      <td>5000</td>\n      <td>1000</td>\n      <td>2016-11-30</td>\n      <td>A095570</td>\n      <td>AJ네트웍스</td>\n    </tr>\n  </tbody>\n</table>\n<p>94 rows × 8 columns</p>\n</div>",
            "text/plain": "         거래재개일       거래정지일         발표일  액면가(전)  액면가(후)       주주총회일       코드  \\\n0   2020-02-21           -  2020-01-09     500     100  2020-01-31  A015540   \n1   2020-02-06           -  2019-12-11    1000     100  2019-12-27  A002070   \n2   2019-12-24           -  2019-06-17     500     100  2019-11-08  A029480   \n3   2019-11-21           -  2019-10-21     500     100  2019-11-05  A176440   \n4   2019-12-10           -  2019-09-24     500     100  2019-11-08  A144960   \n5   2019-11-01           -  2019-08-23    5000    1000  2019-10-04  A005420   \n6   2019-10-18           -  2019-09-16     500     100  2019-09-16  A189980   \n7   2019-05-20  2019-04-29  2019-02-27     500     100  2019-03-28  A009620   \n8   2019-05-08  2019-05-02  2019-03-13    5000    1000  2019-03-29  A020400   \n9   2019-05-07  2019-05-02  2019-02-27    5000     500  2019-03-29  A017810   \n10  2019-05-07  2019-05-02  2019-03-13     500     100  2019-03-29  A284740   \n11  2019-04-23  2019-04-05  2019-02-15     500     200  2019-03-04  A238090   \n12  2019-04-24  2019-04-22  2019-03-22    5000     500  2019-03-22  A002220   \n13  2019-05-03  2019-04-30  2019-03-11    5000     500  2019-03-27  A001140   \n14  2019-05-07  2019-05-02  2019-03-14    5000    1000  2019-03-29  A014280   \n15  2019-05-17  2019-04-30  2019-03-11     500     100  2019-03-29  A007120   \n16  2019-05-03  2019-04-29  2019-03-12     500     100  2019-03-29  A087730   \n17  2019-05-02  2019-04-29  2019-03-06    5000    1000  2019-03-27  A001470   \n18  2019-05-03  2019-05-01  2019-03-06    5000     500  2019-03-28  A005300   \n19  2019-05-02  2019-04-29  2019-03-04     500     100  2019-03-27  A038880   \n20  2019-04-30  2019-04-25  2019-02-28    5000     500  2019-03-22  A008830   \n21  2019-04-26  2019-04-23  2019-02-28     500     100  2019-03-21  A004590   \n22  2019-04-23  2019-04-08  2019-02-18     500     200  2019-03-05  A078590   \n23  2019-05-15  2019-04-30  2019-02-12    5000     500  2019-03-28  A019010   \n24  2019-05-15  2019-04-25  2019-02-08    5000     500  2019-03-22  A010660   \n25  2019-05-03  2019-04-22  2019-02-01     500     100  2019-03-20  A174880   \n26  2019-01-29  2019-01-25  2018-12-04    5000     500  2018-12-21  A003610   \n27  2019-02-15  2019-01-29  2018-11-13     500     100  2018-12-27  A131100   \n28  2018-12-06  2018-12-04  2018-09-07    2500     500  2018-10-30  A000440   \n29  2018-10-10  2018-09-03  2018-09-11     500     100  2018-07-31  A083640   \n..         ...         ...         ...     ...     ...         ...      ...   \n64  2017-06-29  2017-06-11  2017-03-28     500     100  2017-05-11  A042040   \n65  2017-09-08  2017-08-21  2017-05-30    5000     500  2017-07-21  A003580   \n66  2017-10-30  2017-09-29  2017-04-26     500     200  2017-08-29  A004990   \n67  2017-05-23  2017-04-27  2017-03-09     500     200  2017-03-24  A106080   \n68  2017-05-10  2017-04-18  2017-02-24     500     100  2017-03-17  A223310   \n69  2017-05-11  2017-04-24  2017-02-09    1000     200  2017-03-24  A002760   \n70  2017-07-11  2017-06-26  2017-04-06     500     100  2017-05-25  A089230   \n71  2017-05-11  2017-04-20  2017-02-03    5000     500  2017-03-17  A138250   \n72  2017-05-11  2017-04-20  2017-02-16    5000     500  2017-03-17  A002870   \n73  2017-05-22  2017-04-27  2017-03-06     500     100  2017-03-24  A090410   \n74  2017-05-26  2017-04-27  2017-03-09    5000     500           -  A006580   \n75  2017-05-11  2017-04-13  2017-02-14     500     200  2017-03-10  A042700   \n76  2017-05-10  2017-04-23  2017-03-03    5000     500  2017-03-22  A033830   \n77  2017-05-26  2017-05-16  2017-03-13     500     100  2017-03-31  A073640   \n78  2017-05-18  2017-04-25  2017-03-08    5000     500  2017-03-24  A013520   \n79  2017-05-18  2017-04-27  2017-02-24    5000     500  2017-03-24  A013360   \n80  2017-05-18  2017-04-27  2017-02-23    5000    1000  2017-03-24  A144620   \n81  2017-05-18  2017-04-27  2017-02-22    2500     500  2017-03-24  A003090   \n82  2017-04-25  2017-04-07  2017-01-05     500     200  2017-03-06  A097780   \n83  2017-05-22  2017-04-27  2017-02-02     500     100  2017-03-24  A131090   \n84  2017-05-16  2017-04-27  2017-02-01     500     100  2017-03-24  A127160   \n85  2017-04-26  2017-04-07  2016-12-29     500     100  2017-03-03  A197210   \n86  2017-02-03  2017-01-14  2016-11-11     500     100  2016-12-13  A214310   \n87  2017-03-28  2017-03-08  2016-12-14     500     200  2017-02-07  A090710   \n88  2017-05-22  2017-04-28  2016-12-12    5000     500  2017-03-28  A107590   \n89  2017-02-23  2017-01-25  2016-10-07     500     200  2016-12-21  A058220   \n90  2017-07-07  2017-05-31  2016-11-22    5000     500  2017-03-31  A001800   \n91  2016-11-24  2016-11-05  2016-09-19     500     100  2016-10-04  A224060   \n92  2017-01-19  2017-01-05  2016-10-13    5000     100  2016-12-02  A079650   \n93  2017-01-17  2016-12-30  2016-10-10    5000    1000  2016-11-30  A095570   \n\n          회사명  \n0   메디파트너생명공학  \n1       남영비비안  \n2     바른테크놀로지  \n3       에이치엔티  \n4     뉴파워프라즈마  \n5       코스모화학  \n6      흥국에프엔비  \n7        삼보산업  \n8        대동금속  \n9         풀무원  \n10      쿠쿠홈시스  \n11       앤디포스  \n12       한일철강  \n13      카리스국보  \n14       금강공업  \n15     미래아이앤지  \n16  에스모 머티리얼즈  \n17       삼부토건  \n18     롯데칠성음료  \n19       아이에이  \n20       대동기어  \n21       한국가구  \n22       두올산업  \n23        베뉴지  \n24       화천기계  \n25       장원테크  \n26         방림  \n27        알이피  \n28     중앙에너비스  \n29         인콘  \n..        ...  \n64     케이피엠테크  \n65    넥스트사이언스  \n66       롯데지주  \n67       하이소닉  \n68      이에스브이  \n69         보락  \n70    THE E&M  \n71      엔에스쇼핑  \n72       신풍제지  \n73      덕신하우징  \n74       대양제지  \n75      한미반도체  \n76        티비씨  \n77       삼원테크  \n78     화승알앤에이  \n79       일성건설  \n80    코오롱머티리얼  \n81         대웅  \n82        에스맥  \n83        시큐브  \n84     매직마이크로  \n85         리드  \n86     세미콘라이트  \n87       휴림로봇  \n88      미원홀딩스  \n89        아리온  \n90     오리온홀딩스  \n91        코디엠  \n92         서산  \n93     AJ네트웍스  \n\n[94 rows x 8 columns]"
          },
          "metadata": {}
        }
      ]
    },
    {
      "metadata": {
        "scrolled": true,
        "trusted": true
      },
      "cell_type": "code",
      "source": "work_df.columns",
      "execution_count": 23,
      "outputs": [
        {
          "output_type": "execute_result",
          "execution_count": 23,
          "data": {
            "text/plain": "Index(['거래재개일', '거래정지일', '발표일', '액면가(전)', '액면가(후)', '주주총회일', '코드', '회사명'], dtype='object')"
          },
          "metadata": {}
        }
      ]
    },
    {
      "metadata": {
        "trusted": true
      },
      "cell_type": "code",
      "source": "col = ['코드','회사명','액면가(전)','액면가(후)','발표일','주주총회일','거래정지일','거래재개일']",
      "execution_count": 24,
      "outputs": []
    },
    {
      "metadata": {
        "scrolled": true,
        "trusted": true
      },
      "cell_type": "code",
      "source": "work_df = work_df[col]",
      "execution_count": 25,
      "outputs": []
    },
    {
      "metadata": {
        "scrolled": true,
        "trusted": true
      },
      "cell_type": "code",
      "source": "work_df = work_df.set_index('코드')",
      "execution_count": 26,
      "outputs": []
    },
    {
      "metadata": {
        "trusted": true
      },
      "cell_type": "code",
      "source": "work_df",
      "execution_count": 27,
      "outputs": [
        {
          "output_type": "execute_result",
          "execution_count": 27,
          "data": {
            "text/html": "<div>\n<style scoped>\n    .dataframe tbody tr th:only-of-type {\n        vertical-align: middle;\n    }\n\n    .dataframe tbody tr th {\n        vertical-align: top;\n    }\n\n    .dataframe thead th {\n        text-align: right;\n    }\n</style>\n<table border=\"1\" class=\"dataframe\">\n  <thead>\n    <tr style=\"text-align: right;\">\n      <th></th>\n      <th>회사명</th>\n      <th>액면가(전)</th>\n      <th>액면가(후)</th>\n      <th>발표일</th>\n      <th>주주총회일</th>\n      <th>거래정지일</th>\n      <th>거래재개일</th>\n    </tr>\n    <tr>\n      <th>코드</th>\n      <th></th>\n      <th></th>\n      <th></th>\n      <th></th>\n      <th></th>\n      <th></th>\n      <th></th>\n    </tr>\n  </thead>\n  <tbody>\n    <tr>\n      <th>A015540</th>\n      <td>메디파트너생명공학</td>\n      <td>500</td>\n      <td>100</td>\n      <td>2020-01-09</td>\n      <td>2020-01-31</td>\n      <td>-</td>\n      <td>2020-02-21</td>\n    </tr>\n    <tr>\n      <th>A002070</th>\n      <td>남영비비안</td>\n      <td>1000</td>\n      <td>100</td>\n      <td>2019-12-11</td>\n      <td>2019-12-27</td>\n      <td>-</td>\n      <td>2020-02-06</td>\n    </tr>\n    <tr>\n      <th>A029480</th>\n      <td>바른테크놀로지</td>\n      <td>500</td>\n      <td>100</td>\n      <td>2019-06-17</td>\n      <td>2019-11-08</td>\n      <td>-</td>\n      <td>2019-12-24</td>\n    </tr>\n    <tr>\n      <th>A176440</th>\n      <td>에이치엔티</td>\n      <td>500</td>\n      <td>100</td>\n      <td>2019-10-21</td>\n      <td>2019-11-05</td>\n      <td>-</td>\n      <td>2019-11-21</td>\n    </tr>\n    <tr>\n      <th>A144960</th>\n      <td>뉴파워프라즈마</td>\n      <td>500</td>\n      <td>100</td>\n      <td>2019-09-24</td>\n      <td>2019-11-08</td>\n      <td>-</td>\n      <td>2019-12-10</td>\n    </tr>\n    <tr>\n      <th>A005420</th>\n      <td>코스모화학</td>\n      <td>5000</td>\n      <td>1000</td>\n      <td>2019-08-23</td>\n      <td>2019-10-04</td>\n      <td>-</td>\n      <td>2019-11-01</td>\n    </tr>\n    <tr>\n      <th>A189980</th>\n      <td>흥국에프엔비</td>\n      <td>500</td>\n      <td>100</td>\n      <td>2019-09-16</td>\n      <td>2019-09-16</td>\n      <td>-</td>\n      <td>2019-10-18</td>\n    </tr>\n    <tr>\n      <th>A009620</th>\n      <td>삼보산업</td>\n      <td>500</td>\n      <td>100</td>\n      <td>2019-02-27</td>\n      <td>2019-03-28</td>\n      <td>2019-04-29</td>\n      <td>2019-05-20</td>\n    </tr>\n    <tr>\n      <th>A020400</th>\n      <td>대동금속</td>\n      <td>5000</td>\n      <td>1000</td>\n      <td>2019-03-13</td>\n      <td>2019-03-29</td>\n      <td>2019-05-02</td>\n      <td>2019-05-08</td>\n    </tr>\n    <tr>\n      <th>A017810</th>\n      <td>풀무원</td>\n      <td>5000</td>\n      <td>500</td>\n      <td>2019-02-27</td>\n      <td>2019-03-29</td>\n      <td>2019-05-02</td>\n      <td>2019-05-07</td>\n    </tr>\n    <tr>\n      <th>A284740</th>\n      <td>쿠쿠홈시스</td>\n      <td>500</td>\n      <td>100</td>\n      <td>2019-03-13</td>\n      <td>2019-03-29</td>\n      <td>2019-05-02</td>\n      <td>2019-05-07</td>\n    </tr>\n    <tr>\n      <th>A238090</th>\n      <td>앤디포스</td>\n      <td>500</td>\n      <td>200</td>\n      <td>2019-02-15</td>\n      <td>2019-03-04</td>\n      <td>2019-04-05</td>\n      <td>2019-04-23</td>\n    </tr>\n    <tr>\n      <th>A002220</th>\n      <td>한일철강</td>\n      <td>5000</td>\n      <td>500</td>\n      <td>2019-03-22</td>\n      <td>2019-03-22</td>\n      <td>2019-04-22</td>\n      <td>2019-04-24</td>\n    </tr>\n    <tr>\n      <th>A001140</th>\n      <td>카리스국보</td>\n      <td>5000</td>\n      <td>500</td>\n      <td>2019-03-11</td>\n      <td>2019-03-27</td>\n      <td>2019-04-30</td>\n      <td>2019-05-03</td>\n    </tr>\n    <tr>\n      <th>A014280</th>\n      <td>금강공업</td>\n      <td>5000</td>\n      <td>1000</td>\n      <td>2019-03-14</td>\n      <td>2019-03-29</td>\n      <td>2019-05-02</td>\n      <td>2019-05-07</td>\n    </tr>\n    <tr>\n      <th>A007120</th>\n      <td>미래아이앤지</td>\n      <td>500</td>\n      <td>100</td>\n      <td>2019-03-11</td>\n      <td>2019-03-29</td>\n      <td>2019-04-30</td>\n      <td>2019-05-17</td>\n    </tr>\n    <tr>\n      <th>A087730</th>\n      <td>에스모 머티리얼즈</td>\n      <td>500</td>\n      <td>100</td>\n      <td>2019-03-12</td>\n      <td>2019-03-29</td>\n      <td>2019-04-29</td>\n      <td>2019-05-03</td>\n    </tr>\n    <tr>\n      <th>A001470</th>\n      <td>삼부토건</td>\n      <td>5000</td>\n      <td>1000</td>\n      <td>2019-03-06</td>\n      <td>2019-03-27</td>\n      <td>2019-04-29</td>\n      <td>2019-05-02</td>\n    </tr>\n    <tr>\n      <th>A005300</th>\n      <td>롯데칠성음료</td>\n      <td>5000</td>\n      <td>500</td>\n      <td>2019-03-06</td>\n      <td>2019-03-28</td>\n      <td>2019-05-01</td>\n      <td>2019-05-03</td>\n    </tr>\n    <tr>\n      <th>A038880</th>\n      <td>아이에이</td>\n      <td>500</td>\n      <td>100</td>\n      <td>2019-03-04</td>\n      <td>2019-03-27</td>\n      <td>2019-04-29</td>\n      <td>2019-05-02</td>\n    </tr>\n    <tr>\n      <th>A008830</th>\n      <td>대동기어</td>\n      <td>5000</td>\n      <td>500</td>\n      <td>2019-02-28</td>\n      <td>2019-03-22</td>\n      <td>2019-04-25</td>\n      <td>2019-04-30</td>\n    </tr>\n    <tr>\n      <th>A004590</th>\n      <td>한국가구</td>\n      <td>500</td>\n      <td>100</td>\n      <td>2019-02-28</td>\n      <td>2019-03-21</td>\n      <td>2019-04-23</td>\n      <td>2019-04-26</td>\n    </tr>\n    <tr>\n      <th>A078590</th>\n      <td>두올산업</td>\n      <td>500</td>\n      <td>200</td>\n      <td>2019-02-18</td>\n      <td>2019-03-05</td>\n      <td>2019-04-08</td>\n      <td>2019-04-23</td>\n    </tr>\n    <tr>\n      <th>A019010</th>\n      <td>베뉴지</td>\n      <td>5000</td>\n      <td>500</td>\n      <td>2019-02-12</td>\n      <td>2019-03-28</td>\n      <td>2019-04-30</td>\n      <td>2019-05-15</td>\n    </tr>\n    <tr>\n      <th>A010660</th>\n      <td>화천기계</td>\n      <td>5000</td>\n      <td>500</td>\n      <td>2019-02-08</td>\n      <td>2019-03-22</td>\n      <td>2019-04-25</td>\n      <td>2019-05-15</td>\n    </tr>\n    <tr>\n      <th>A174880</th>\n      <td>장원테크</td>\n      <td>500</td>\n      <td>100</td>\n      <td>2019-02-01</td>\n      <td>2019-03-20</td>\n      <td>2019-04-22</td>\n      <td>2019-05-03</td>\n    </tr>\n    <tr>\n      <th>A003610</th>\n      <td>방림</td>\n      <td>5000</td>\n      <td>500</td>\n      <td>2018-12-04</td>\n      <td>2018-12-21</td>\n      <td>2019-01-25</td>\n      <td>2019-01-29</td>\n    </tr>\n    <tr>\n      <th>A131100</th>\n      <td>알이피</td>\n      <td>500</td>\n      <td>100</td>\n      <td>2018-11-13</td>\n      <td>2018-12-27</td>\n      <td>2019-01-29</td>\n      <td>2019-02-15</td>\n    </tr>\n    <tr>\n      <th>A000440</th>\n      <td>중앙에너비스</td>\n      <td>2500</td>\n      <td>500</td>\n      <td>2018-09-07</td>\n      <td>2018-10-30</td>\n      <td>2018-12-04</td>\n      <td>2018-12-06</td>\n    </tr>\n    <tr>\n      <th>A083640</th>\n      <td>인콘</td>\n      <td>500</td>\n      <td>100</td>\n      <td>2018-09-11</td>\n      <td>2018-07-31</td>\n      <td>2018-09-03</td>\n      <td>2018-10-10</td>\n    </tr>\n    <tr>\n      <th>...</th>\n      <td>...</td>\n      <td>...</td>\n      <td>...</td>\n      <td>...</td>\n      <td>...</td>\n      <td>...</td>\n      <td>...</td>\n    </tr>\n    <tr>\n      <th>A042040</th>\n      <td>케이피엠테크</td>\n      <td>500</td>\n      <td>100</td>\n      <td>2017-03-28</td>\n      <td>2017-05-11</td>\n      <td>2017-06-11</td>\n      <td>2017-06-29</td>\n    </tr>\n    <tr>\n      <th>A003580</th>\n      <td>넥스트사이언스</td>\n      <td>5000</td>\n      <td>500</td>\n      <td>2017-05-30</td>\n      <td>2017-07-21</td>\n      <td>2017-08-21</td>\n      <td>2017-09-08</td>\n    </tr>\n    <tr>\n      <th>A004990</th>\n      <td>롯데지주</td>\n      <td>500</td>\n      <td>200</td>\n      <td>2017-04-26</td>\n      <td>2017-08-29</td>\n      <td>2017-09-29</td>\n      <td>2017-10-30</td>\n    </tr>\n    <tr>\n      <th>A106080</th>\n      <td>하이소닉</td>\n      <td>500</td>\n      <td>200</td>\n      <td>2017-03-09</td>\n      <td>2017-03-24</td>\n      <td>2017-04-27</td>\n      <td>2017-05-23</td>\n    </tr>\n    <tr>\n      <th>A223310</th>\n      <td>이에스브이</td>\n      <td>500</td>\n      <td>100</td>\n      <td>2017-02-24</td>\n      <td>2017-03-17</td>\n      <td>2017-04-18</td>\n      <td>2017-05-10</td>\n    </tr>\n    <tr>\n      <th>A002760</th>\n      <td>보락</td>\n      <td>1000</td>\n      <td>200</td>\n      <td>2017-02-09</td>\n      <td>2017-03-24</td>\n      <td>2017-04-24</td>\n      <td>2017-05-11</td>\n    </tr>\n    <tr>\n      <th>A089230</th>\n      <td>THE E&amp;M</td>\n      <td>500</td>\n      <td>100</td>\n      <td>2017-04-06</td>\n      <td>2017-05-25</td>\n      <td>2017-06-26</td>\n      <td>2017-07-11</td>\n    </tr>\n    <tr>\n      <th>A138250</th>\n      <td>엔에스쇼핑</td>\n      <td>5000</td>\n      <td>500</td>\n      <td>2017-02-03</td>\n      <td>2017-03-17</td>\n      <td>2017-04-20</td>\n      <td>2017-05-11</td>\n    </tr>\n    <tr>\n      <th>A002870</th>\n      <td>신풍제지</td>\n      <td>5000</td>\n      <td>500</td>\n      <td>2017-02-16</td>\n      <td>2017-03-17</td>\n      <td>2017-04-20</td>\n      <td>2017-05-11</td>\n    </tr>\n    <tr>\n      <th>A090410</th>\n      <td>덕신하우징</td>\n      <td>500</td>\n      <td>100</td>\n      <td>2017-03-06</td>\n      <td>2017-03-24</td>\n      <td>2017-04-27</td>\n      <td>2017-05-22</td>\n    </tr>\n    <tr>\n      <th>A006580</th>\n      <td>대양제지</td>\n      <td>5000</td>\n      <td>500</td>\n      <td>2017-03-09</td>\n      <td>-</td>\n      <td>2017-04-27</td>\n      <td>2017-05-26</td>\n    </tr>\n    <tr>\n      <th>A042700</th>\n      <td>한미반도체</td>\n      <td>500</td>\n      <td>200</td>\n      <td>2017-02-14</td>\n      <td>2017-03-10</td>\n      <td>2017-04-13</td>\n      <td>2017-05-11</td>\n    </tr>\n    <tr>\n      <th>A033830</th>\n      <td>티비씨</td>\n      <td>5000</td>\n      <td>500</td>\n      <td>2017-03-03</td>\n      <td>2017-03-22</td>\n      <td>2017-04-23</td>\n      <td>2017-05-10</td>\n    </tr>\n    <tr>\n      <th>A073640</th>\n      <td>삼원테크</td>\n      <td>500</td>\n      <td>100</td>\n      <td>2017-03-13</td>\n      <td>2017-03-31</td>\n      <td>2017-05-16</td>\n      <td>2017-05-26</td>\n    </tr>\n    <tr>\n      <th>A013520</th>\n      <td>화승알앤에이</td>\n      <td>5000</td>\n      <td>500</td>\n      <td>2017-03-08</td>\n      <td>2017-03-24</td>\n      <td>2017-04-25</td>\n      <td>2017-05-18</td>\n    </tr>\n    <tr>\n      <th>A013360</th>\n      <td>일성건설</td>\n      <td>5000</td>\n      <td>500</td>\n      <td>2017-02-24</td>\n      <td>2017-03-24</td>\n      <td>2017-04-27</td>\n      <td>2017-05-18</td>\n    </tr>\n    <tr>\n      <th>A144620</th>\n      <td>코오롱머티리얼</td>\n      <td>5000</td>\n      <td>1000</td>\n      <td>2017-02-23</td>\n      <td>2017-03-24</td>\n      <td>2017-04-27</td>\n      <td>2017-05-18</td>\n    </tr>\n    <tr>\n      <th>A003090</th>\n      <td>대웅</td>\n      <td>2500</td>\n      <td>500</td>\n      <td>2017-02-22</td>\n      <td>2017-03-24</td>\n      <td>2017-04-27</td>\n      <td>2017-05-18</td>\n    </tr>\n    <tr>\n      <th>A097780</th>\n      <td>에스맥</td>\n      <td>500</td>\n      <td>200</td>\n      <td>2017-01-05</td>\n      <td>2017-03-06</td>\n      <td>2017-04-07</td>\n      <td>2017-04-25</td>\n    </tr>\n    <tr>\n      <th>A131090</th>\n      <td>시큐브</td>\n      <td>500</td>\n      <td>100</td>\n      <td>2017-02-02</td>\n      <td>2017-03-24</td>\n      <td>2017-04-27</td>\n      <td>2017-05-22</td>\n    </tr>\n    <tr>\n      <th>A127160</th>\n      <td>매직마이크로</td>\n      <td>500</td>\n      <td>100</td>\n      <td>2017-02-01</td>\n      <td>2017-03-24</td>\n      <td>2017-04-27</td>\n      <td>2017-05-16</td>\n    </tr>\n    <tr>\n      <th>A197210</th>\n      <td>리드</td>\n      <td>500</td>\n      <td>100</td>\n      <td>2016-12-29</td>\n      <td>2017-03-03</td>\n      <td>2017-04-07</td>\n      <td>2017-04-26</td>\n    </tr>\n    <tr>\n      <th>A214310</th>\n      <td>세미콘라이트</td>\n      <td>500</td>\n      <td>100</td>\n      <td>2016-11-11</td>\n      <td>2016-12-13</td>\n      <td>2017-01-14</td>\n      <td>2017-02-03</td>\n    </tr>\n    <tr>\n      <th>A090710</th>\n      <td>휴림로봇</td>\n      <td>500</td>\n      <td>200</td>\n      <td>2016-12-14</td>\n      <td>2017-02-07</td>\n      <td>2017-03-08</td>\n      <td>2017-03-28</td>\n    </tr>\n    <tr>\n      <th>A107590</th>\n      <td>미원홀딩스</td>\n      <td>5000</td>\n      <td>500</td>\n      <td>2016-12-12</td>\n      <td>2017-03-28</td>\n      <td>2017-04-28</td>\n      <td>2017-05-22</td>\n    </tr>\n    <tr>\n      <th>A058220</th>\n      <td>아리온</td>\n      <td>500</td>\n      <td>200</td>\n      <td>2016-10-07</td>\n      <td>2016-12-21</td>\n      <td>2017-01-25</td>\n      <td>2017-02-23</td>\n    </tr>\n    <tr>\n      <th>A001800</th>\n      <td>오리온홀딩스</td>\n      <td>5000</td>\n      <td>500</td>\n      <td>2016-11-22</td>\n      <td>2017-03-31</td>\n      <td>2017-05-31</td>\n      <td>2017-07-07</td>\n    </tr>\n    <tr>\n      <th>A224060</th>\n      <td>코디엠</td>\n      <td>500</td>\n      <td>100</td>\n      <td>2016-09-19</td>\n      <td>2016-10-04</td>\n      <td>2016-11-05</td>\n      <td>2016-11-24</td>\n    </tr>\n    <tr>\n      <th>A079650</th>\n      <td>서산</td>\n      <td>5000</td>\n      <td>100</td>\n      <td>2016-10-13</td>\n      <td>2016-12-02</td>\n      <td>2017-01-05</td>\n      <td>2017-01-19</td>\n    </tr>\n    <tr>\n      <th>A095570</th>\n      <td>AJ네트웍스</td>\n      <td>5000</td>\n      <td>1000</td>\n      <td>2016-10-10</td>\n      <td>2016-11-30</td>\n      <td>2016-12-30</td>\n      <td>2017-01-17</td>\n    </tr>\n  </tbody>\n</table>\n<p>94 rows × 7 columns</p>\n</div>",
            "text/plain": "               회사명  액면가(전)  액면가(후)         발표일       주주총회일       거래정지일  \\\n코드                                                                       \nA015540  메디파트너생명공학     500     100  2020-01-09  2020-01-31           -   \nA002070      남영비비안    1000     100  2019-12-11  2019-12-27           -   \nA029480    바른테크놀로지     500     100  2019-06-17  2019-11-08           -   \nA176440      에이치엔티     500     100  2019-10-21  2019-11-05           -   \nA144960    뉴파워프라즈마     500     100  2019-09-24  2019-11-08           -   \nA005420      코스모화학    5000    1000  2019-08-23  2019-10-04           -   \nA189980     흥국에프엔비     500     100  2019-09-16  2019-09-16           -   \nA009620       삼보산업     500     100  2019-02-27  2019-03-28  2019-04-29   \nA020400       대동금속    5000    1000  2019-03-13  2019-03-29  2019-05-02   \nA017810        풀무원    5000     500  2019-02-27  2019-03-29  2019-05-02   \nA284740      쿠쿠홈시스     500     100  2019-03-13  2019-03-29  2019-05-02   \nA238090       앤디포스     500     200  2019-02-15  2019-03-04  2019-04-05   \nA002220       한일철강    5000     500  2019-03-22  2019-03-22  2019-04-22   \nA001140      카리스국보    5000     500  2019-03-11  2019-03-27  2019-04-30   \nA014280       금강공업    5000    1000  2019-03-14  2019-03-29  2019-05-02   \nA007120     미래아이앤지     500     100  2019-03-11  2019-03-29  2019-04-30   \nA087730  에스모 머티리얼즈     500     100  2019-03-12  2019-03-29  2019-04-29   \nA001470       삼부토건    5000    1000  2019-03-06  2019-03-27  2019-04-29   \nA005300     롯데칠성음료    5000     500  2019-03-06  2019-03-28  2019-05-01   \nA038880       아이에이     500     100  2019-03-04  2019-03-27  2019-04-29   \nA008830       대동기어    5000     500  2019-02-28  2019-03-22  2019-04-25   \nA004590       한국가구     500     100  2019-02-28  2019-03-21  2019-04-23   \nA078590       두올산업     500     200  2019-02-18  2019-03-05  2019-04-08   \nA019010        베뉴지    5000     500  2019-02-12  2019-03-28  2019-04-30   \nA010660       화천기계    5000     500  2019-02-08  2019-03-22  2019-04-25   \nA174880       장원테크     500     100  2019-02-01  2019-03-20  2019-04-22   \nA003610         방림    5000     500  2018-12-04  2018-12-21  2019-01-25   \nA131100        알이피     500     100  2018-11-13  2018-12-27  2019-01-29   \nA000440     중앙에너비스    2500     500  2018-09-07  2018-10-30  2018-12-04   \nA083640         인콘     500     100  2018-09-11  2018-07-31  2018-09-03   \n...            ...     ...     ...         ...         ...         ...   \nA042040     케이피엠테크     500     100  2017-03-28  2017-05-11  2017-06-11   \nA003580    넥스트사이언스    5000     500  2017-05-30  2017-07-21  2017-08-21   \nA004990       롯데지주     500     200  2017-04-26  2017-08-29  2017-09-29   \nA106080       하이소닉     500     200  2017-03-09  2017-03-24  2017-04-27   \nA223310      이에스브이     500     100  2017-02-24  2017-03-17  2017-04-18   \nA002760         보락    1000     200  2017-02-09  2017-03-24  2017-04-24   \nA089230    THE E&M     500     100  2017-04-06  2017-05-25  2017-06-26   \nA138250      엔에스쇼핑    5000     500  2017-02-03  2017-03-17  2017-04-20   \nA002870       신풍제지    5000     500  2017-02-16  2017-03-17  2017-04-20   \nA090410      덕신하우징     500     100  2017-03-06  2017-03-24  2017-04-27   \nA006580       대양제지    5000     500  2017-03-09           -  2017-04-27   \nA042700      한미반도체     500     200  2017-02-14  2017-03-10  2017-04-13   \nA033830        티비씨    5000     500  2017-03-03  2017-03-22  2017-04-23   \nA073640       삼원테크     500     100  2017-03-13  2017-03-31  2017-05-16   \nA013520     화승알앤에이    5000     500  2017-03-08  2017-03-24  2017-04-25   \nA013360       일성건설    5000     500  2017-02-24  2017-03-24  2017-04-27   \nA144620    코오롱머티리얼    5000    1000  2017-02-23  2017-03-24  2017-04-27   \nA003090         대웅    2500     500  2017-02-22  2017-03-24  2017-04-27   \nA097780        에스맥     500     200  2017-01-05  2017-03-06  2017-04-07   \nA131090        시큐브     500     100  2017-02-02  2017-03-24  2017-04-27   \nA127160     매직마이크로     500     100  2017-02-01  2017-03-24  2017-04-27   \nA197210         리드     500     100  2016-12-29  2017-03-03  2017-04-07   \nA214310     세미콘라이트     500     100  2016-11-11  2016-12-13  2017-01-14   \nA090710       휴림로봇     500     200  2016-12-14  2017-02-07  2017-03-08   \nA107590      미원홀딩스    5000     500  2016-12-12  2017-03-28  2017-04-28   \nA058220        아리온     500     200  2016-10-07  2016-12-21  2017-01-25   \nA001800     오리온홀딩스    5000     500  2016-11-22  2017-03-31  2017-05-31   \nA224060        코디엠     500     100  2016-09-19  2016-10-04  2016-11-05   \nA079650         서산    5000     100  2016-10-13  2016-12-02  2017-01-05   \nA095570     AJ네트웍스    5000    1000  2016-10-10  2016-11-30  2016-12-30   \n\n              거래재개일  \n코드                   \nA015540  2020-02-21  \nA002070  2020-02-06  \nA029480  2019-12-24  \nA176440  2019-11-21  \nA144960  2019-12-10  \nA005420  2019-11-01  \nA189980  2019-10-18  \nA009620  2019-05-20  \nA020400  2019-05-08  \nA017810  2019-05-07  \nA284740  2019-05-07  \nA238090  2019-04-23  \nA002220  2019-04-24  \nA001140  2019-05-03  \nA014280  2019-05-07  \nA007120  2019-05-17  \nA087730  2019-05-03  \nA001470  2019-05-02  \nA005300  2019-05-03  \nA038880  2019-05-02  \nA008830  2019-04-30  \nA004590  2019-04-26  \nA078590  2019-04-23  \nA019010  2019-05-15  \nA010660  2019-05-15  \nA174880  2019-05-03  \nA003610  2019-01-29  \nA131100  2019-02-15  \nA000440  2018-12-06  \nA083640  2018-10-10  \n...             ...  \nA042040  2017-06-29  \nA003580  2017-09-08  \nA004990  2017-10-30  \nA106080  2017-05-23  \nA223310  2017-05-10  \nA002760  2017-05-11  \nA089230  2017-07-11  \nA138250  2017-05-11  \nA002870  2017-05-11  \nA090410  2017-05-22  \nA006580  2017-05-26  \nA042700  2017-05-11  \nA033830  2017-05-10  \nA073640  2017-05-26  \nA013520  2017-05-18  \nA013360  2017-05-18  \nA144620  2017-05-18  \nA003090  2017-05-18  \nA097780  2017-04-25  \nA131090  2017-05-22  \nA127160  2017-05-16  \nA197210  2017-04-26  \nA214310  2017-02-03  \nA090710  2017-03-28  \nA107590  2017-05-22  \nA058220  2017-02-23  \nA001800  2017-07-07  \nA224060  2016-11-24  \nA079650  2017-01-19  \nA095570  2017-01-17  \n\n[94 rows x 7 columns]"
          },
          "metadata": {}
        }
      ]
    },
    {
      "metadata": {},
      "cell_type": "markdown",
      "source": "### Nan 값 추출하기"
    },
    {
      "metadata": {
        "scrolled": true,
        "trusted": true
      },
      "cell_type": "code",
      "source": "work_df.isnull().sum()\n",
      "execution_count": null,
      "outputs": []
    },
    {
      "metadata": {},
      "cell_type": "markdown",
      "source": "### 특정 값 포함했는지 확인하기"
    },
    {
      "metadata": {
        "trusted": true
      },
      "cell_type": "code",
      "source": "work_df.isin(['-']).sum()",
      "execution_count": null,
      "outputs": []
    },
    {
      "metadata": {},
      "cell_type": "markdown",
      "source": "### 특정값 포함한 것 확인하기"
    },
    {
      "metadata": {
        "scrolled": true,
        "trusted": true
      },
      "cell_type": "code",
      "source": "work_df[work_df['주주총회일'].isin(['-'])]",
      "execution_count": null,
      "outputs": []
    },
    {
      "metadata": {},
      "cell_type": "markdown",
      "source": "### 수동으로 입력하기"
    },
    {
      "metadata": {
        "trusted": true
      },
      "cell_type": "code",
      "source": "work_df.loc[work_df['회사명']=='대양제지', '주주총회일'] = '2017-03-25'\n\nwork_df.loc[work_df['회사명']=='코리아에스이', '주주총회일'] = '2016-03-24'",
      "execution_count": null,
      "outputs": []
    },
    {
      "metadata": {
        "trusted": true
      },
      "cell_type": "code",
      "source": "work_df[work_df['회사명'].isin(['대양제지', '코리아에스이'])]",
      "execution_count": null,
      "outputs": []
    },
    {
      "metadata": {},
      "cell_type": "markdown",
      "source": "### 엑셀로 보내기"
    },
    {
      "metadata": {
        "trusted": true
      },
      "cell_type": "code",
      "source": "#work_df.to_excel('액면분할.xlsx', encoding = 'euckr')",
      "execution_count": null,
      "outputs": []
    },
    {
      "metadata": {},
      "cell_type": "markdown",
      "source": "### 엑셀에서 읽어오기"
    },
    {
      "metadata": {
        "trusted": true
      },
      "cell_type": "code",
      "source": "work = pd.read_excel(\"액면분할.xlsx\", encoding = 'euckr', index_col = '코드')",
      "execution_count": null,
      "outputs": []
    },
    {
      "metadata": {
        "trusted": true
      },
      "cell_type": "code",
      "source": "work",
      "execution_count": null,
      "outputs": []
    },
    {
      "metadata": {
        "trusted": true
      },
      "cell_type": "code",
      "source": "work[['주주총회일', '거래정지일', '거래재개일']] = work[['주주총회일', '거래정지일', '거래재개일']].apply(pd.to_datetime)",
      "execution_count": null,
      "outputs": []
    },
    {
      "metadata": {
        "trusted": true
      },
      "cell_type": "code",
      "source": "work.info()",
      "execution_count": null,
      "outputs": []
    },
    {
      "metadata": {
        "trusted": true
      },
      "cell_type": "code",
      "source": "",
      "execution_count": null,
      "outputs": []
    },
    {
      "metadata": {
        "trusted": true
      },
      "cell_type": "code",
      "source": "",
      "execution_count": null,
      "outputs": []
    },
    {
      "metadata": {
        "trusted": true
      },
      "cell_type": "code",
      "source": "",
      "execution_count": null,
      "outputs": []
    },
    {
      "metadata": {
        "trusted": true
      },
      "cell_type": "code",
      "source": "",
      "execution_count": null,
      "outputs": []
    },
    {
      "metadata": {
        "trusted": true
      },
      "cell_type": "code",
      "source": "",
      "execution_count": null,
      "outputs": []
    },
    {
      "metadata": {
        "trusted": true
      },
      "cell_type": "code",
      "source": "",
      "execution_count": null,
      "outputs": []
    },
    {
      "metadata": {
        "trusted": true
      },
      "cell_type": "code",
      "source": "",
      "execution_count": null,
      "outputs": []
    },
    {
      "metadata": {
        "trusted": true
      },
      "cell_type": "code",
      "source": "",
      "execution_count": null,
      "outputs": []
    },
    {
      "metadata": {
        "trusted": true
      },
      "cell_type": "code",
      "source": "",
      "execution_count": null,
      "outputs": []
    },
    {
      "metadata": {
        "trusted": true
      },
      "cell_type": "code",
      "source": "",
      "execution_count": null,
      "outputs": []
    },
    {
      "metadata": {
        "trusted": true
      },
      "cell_type": "code",
      "source": "",
      "execution_count": null,
      "outputs": []
    },
    {
      "metadata": {
        "trusted": true
      },
      "cell_type": "code",
      "source": "",
      "execution_count": null,
      "outputs": []
    },
    {
      "metadata": {
        "trusted": true
      },
      "cell_type": "code",
      "source": "",
      "execution_count": null,
      "outputs": []
    },
    {
      "metadata": {
        "trusted": true
      },
      "cell_type": "code",
      "source": "",
      "execution_count": null,
      "outputs": []
    },
    {
      "metadata": {
        "trusted": true
      },
      "cell_type": "code",
      "source": "",
      "execution_count": null,
      "outputs": []
    },
    {
      "metadata": {
        "trusted": true
      },
      "cell_type": "code",
      "source": "",
      "execution_count": null,
      "outputs": []
    },
    {
      "metadata": {
        "trusted": true
      },
      "cell_type": "code",
      "source": "",
      "execution_count": null,
      "outputs": []
    },
    {
      "metadata": {
        "trusted": true
      },
      "cell_type": "code",
      "source": "",
      "execution_count": null,
      "outputs": []
    }
  ],
  "metadata": {
    "kernelspec": {
      "name": "python36",
      "display_name": "Python 3.6",
      "language": "python"
    }
  },
  "nbformat": 4,
  "nbformat_minor": 2
}